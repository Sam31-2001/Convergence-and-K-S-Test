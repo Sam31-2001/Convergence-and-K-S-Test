{
  "cells": [
    {
      "cell_type": "markdown",
      "metadata": {
        "id": "view-in-github",
        "colab_type": "text"
      },
      "source": [
        "<a href=\"https://colab.research.google.com/github/Sam31-2001/Convergence-and-K-S-Test/blob/main/Multiclass_Classifier_Project_BRCA_using_SVM.ipynb\" target=\"_parent\"><img src=\"https://colab.research.google.com/assets/colab-badge.svg\" alt=\"Open In Colab\"/></a>"
      ]
    },
    {
      "cell_type": "code",
      "source": [
        "install.packages(\"ggplot2\")\n",
        "library(\"ggplot2\")"
      ],
      "metadata": {
        "colab": {
          "base_uri": "https://localhost:8080/"
        },
        "outputId": "c4e11056-0d3e-419b-83ac-4400150ed346",
        "id": "4_BJAY1Ik6jL"
      },
      "execution_count": 1,
      "outputs": [
        {
          "output_type": "stream",
          "name": "stderr",
          "text": [
            "Installing package into ‘/usr/local/lib/R/site-library’\n",
            "(as ‘lib’ is unspecified)\n",
            "\n"
          ]
        }
      ]
    },
    {
      "cell_type": "code",
      "source": [
        "install.packages(\"lattice\")\n",
        "library(\"lattice\")"
      ],
      "metadata": {
        "colab": {
          "base_uri": "https://localhost:8080/"
        },
        "outputId": "909817fe-fae4-42dc-80f9-bb30e8a58c0a",
        "id": "44Re-s1FlDhj"
      },
      "execution_count": 2,
      "outputs": [
        {
          "output_type": "stream",
          "name": "stderr",
          "text": [
            "Installing package into ‘/usr/local/lib/R/site-library’\n",
            "(as ‘lib’ is unspecified)\n",
            "\n"
          ]
        }
      ]
    },
    {
      "cell_type": "code",
      "source": [
        "install.packages(\"lava\")\n",
        "library(\"lava\")"
      ],
      "metadata": {
        "colab": {
          "base_uri": "https://localhost:8080/"
        },
        "outputId": "39383404-d8a7-46f3-b772-6e4a36e5a7ee",
        "id": "CzfEFAdklJbK"
      },
      "execution_count": 3,
      "outputs": [
        {
          "output_type": "stream",
          "name": "stderr",
          "text": [
            "Installing package into ‘/usr/local/lib/R/site-library’\n",
            "(as ‘lib’ is unspecified)\n",
            "\n",
            "also installing the dependencies ‘listenv’, ‘parallelly’, ‘future’, ‘globals’, ‘future.apply’, ‘progressr’, ‘numDeriv’, ‘SQUAREM’\n",
            "\n",
            "\n",
            "\n",
            "Attaching package: ‘lava’\n",
            "\n",
            "\n",
            "The following object is masked from ‘package:ggplot2’:\n",
            "\n",
            "    vars\n",
            "\n",
            "\n"
          ]
        }
      ]
    },
    {
      "cell_type": "code",
      "source": [
        "install.packages(\"purrr\")\n",
        "library(\"purrr\")"
      ],
      "metadata": {
        "colab": {
          "base_uri": "https://localhost:8080/"
        },
        "outputId": "dccc3610-efc6-40b1-f9cb-39e32c0e8e86",
        "id": "aS19q14MlRWy"
      },
      "execution_count": 4,
      "outputs": [
        {
          "output_type": "stream",
          "name": "stderr",
          "text": [
            "Installing package into ‘/usr/local/lib/R/site-library’\n",
            "(as ‘lib’ is unspecified)\n",
            "\n"
          ]
        }
      ]
    },
    {
      "cell_type": "code",
      "execution_count": 5,
      "metadata": {
        "colab": {
          "base_uri": "https://localhost:8080/"
        },
        "id": "gDuap-5AngwH",
        "outputId": "d86b5fc1-a096-42e4-cb61-44358a3d6797"
      },
      "outputs": [
        {
          "output_type": "stream",
          "name": "stderr",
          "text": [
            "Installing package into ‘/usr/local/lib/R/site-library’\n",
            "(as ‘lib’ is unspecified)\n",
            "\n",
            "\n",
            "Attaching package: ‘data.table’\n",
            "\n",
            "\n",
            "The following object is masked from ‘package:purrr’:\n",
            "\n",
            "    transpose\n",
            "\n",
            "\n",
            "Installing package into ‘/usr/local/lib/R/site-library’\n",
            "(as ‘lib’ is unspecified)\n",
            "\n",
            "also installing the dependency ‘proxy’\n",
            "\n",
            "\n",
            "Installing package into ‘/usr/local/lib/R/site-library’\n",
            "(as ‘lib’ is unspecified)\n",
            "\n",
            "also installing the dependency ‘bitops’\n",
            "\n",
            "\n"
          ]
        }
      ],
      "source": [
        "install.packages(\"data.table\")\n",
        "library(data.table)\n",
        "install.packages(\"e1071\")\n",
        "install.packages(\"caTools\")\n",
        "library(e1071)\n",
        "library(caTools)"
      ]
    },
    {
      "cell_type": "code",
      "execution_count": 6,
      "metadata": {
        "id": "iLr_yII3pTKI"
      },
      "outputs": [],
      "source": [
        "mu<-matrix(,nrow=4,ncol=4)\n",
        "a<-matrix(,nrow=4,ncol=4)\n",
        "covfP<-matrix(,nrow=4,ncol=4)"
      ]
    },
    {
      "cell_type": "code",
      "execution_count": 7,
      "metadata": {
        "id": "_bRHwK7zpZ_3"
      },
      "outputs": [],
      "source": [
        "data11=fread(\"/content/Copy Number BRCA training.txt\",sep='\\t',header=FALSE)\n",
        "data12=fread(\"/content/Copy Number BRCA test.txt\",sep='\\t',header=FALSE)\n",
        "data21=fread(\"/content/miRNA BRCA training.txt\",sep='\\t',header=FALSE)\n",
        "data22=fread(\"/content/miRNA BRCA test.txt\",sep='\\t',header=FALSE)\n",
        "data31=fread(\"/content/Protein BRCA training.txt\",sep='\\t',header=FALSE)\n",
        "data32=fread(\"/content/Protein BRCA test.txt\",sep='\\t',header=FALSE)\n",
        "data41=fread(\"/content/RNA BRCA training.txt\",sep='\\t',header=FALSE)\n",
        "data42=fread(\"/content/RNA BRCA test.txt\",sep='\\t',header=FALSE)"
      ]
    },
    {
      "cell_type": "code",
      "execution_count": 38,
      "metadata": {
        "id": "MiVOEBip0IcV",
        "colab": {
          "base_uri": "https://localhost:8080/",
          "height": 156
        },
        "outputId": "dff77567-3132-434a-f7e2-b6e3b1e3b4a2"
      },
      "outputs": [
        {
          "output_type": "display_data",
          "data": {
            "text/plain": [
              "   y_pred1\n",
              "    1 2 3 4\n",
              "  1 7 7 6 7\n",
              "  2 4 8 1 3\n",
              "  3 5 1 2 2\n",
              "  4 2 9 1 1"
            ]
          },
          "metadata": {}
        },
        {
          "output_type": "display_data",
          "data": {
            "text/html": [
              "0.272727272727273"
            ],
            "text/markdown": "0.272727272727273",
            "text/latex": "0.272727272727273",
            "text/plain": [
              "[1] 0.2727273"
            ]
          },
          "metadata": {}
        },
        {
          "output_type": "display_data",
          "data": {
            "text/html": [
              "<style>\n",
              ".list-inline {list-style: none; margin:0; padding: 0}\n",
              ".list-inline>li {display: inline-block}\n",
              ".list-inline>li:not(:last-child)::after {content: \"\\00b7\"; padding: 0 .5ex}\n",
              "</style>\n",
              "<ol class=list-inline><li>68</li><li>4</li></ol>\n"
            ],
            "text/markdown": "1. 68\n2. 4\n\n\n",
            "text/latex": "\\begin{enumerate*}\n\\item 68\n\\item 4\n\\end{enumerate*}\n",
            "text/plain": [
              "[1] 68  4"
            ]
          },
          "metadata": {}
        }
      ],
      "source": [
        "classifier_cl1<-svm(formula=V2001~.,data=data11,type='C-classification',kernel='linear',probability=TRUE)\n",
        "y_pred1<-predict(classifier_cl1,newdata=data12)\n",
        "cm<-table(data12$V2001,y_pred1)\n",
        "cm\n",
        "(7+8+2+1)/66\n",
        "p_1<-predict(classifier_cl1,data11,probability=TRUE)\n",
        "p_1<-(attr(p_1,\"probabilities\"))\n",
        "for(k in 1:4)\n",
        "{\n",
        "  mu[1,k]=mean(p_1[,k])\n",
        "  a[1,k]=sd(p_1[,k])\n",
        "}\n",
        "dim(p_1)"
      ]
    },
    {
      "cell_type": "code",
      "execution_count": 9,
      "metadata": {
        "colab": {
          "base_uri": "https://localhost:8080/",
          "height": 139
        },
        "outputId": "e1eed830-57d5-4809-ea02-0d345319505a",
        "id": "cpCk-xfqCmYT"
      },
      "outputs": [
        {
          "output_type": "display_data",
          "data": {
            "text/plain": [
              "   y_pred1\n",
              "     1  2  3  4\n",
              "  1 28  0  0  0\n",
              "  2  0 16  0  0\n",
              "  3  0  0 11  0\n",
              "  4  0  0  0 13"
            ]
          },
          "metadata": {}
        },
        {
          "output_type": "display_data",
          "data": {
            "text/html": [
              "1"
            ],
            "text/markdown": "1",
            "text/latex": "1",
            "text/plain": [
              "[1] 1"
            ]
          },
          "metadata": {}
        }
      ],
      "source": [
        "y_pred1<-predict(classifier_cl1,newdata=data11)\n",
        "cm<-table(data11$V2001,y_pred1)\n",
        "cm\n",
        "(28+16+11+13)/68"
      ]
    },
    {
      "cell_type": "code",
      "execution_count": 39,
      "metadata": {
        "id": "-snPvtni0jml",
        "colab": {
          "base_uri": "https://localhost:8080/",
          "height": 156
        },
        "outputId": "f822c622-d36b-4839-b682-51c4b3132745"
      },
      "outputs": [
        {
          "output_type": "display_data",
          "data": {
            "text/plain": [
              "   y_pred2\n",
              "     1  2  3  4\n",
              "  1 20  4  0  3\n",
              "  2  8  7  1  0\n",
              "  3  6  3  1  0\n",
              "  4  9  2  1  1"
            ]
          },
          "metadata": {}
        },
        {
          "output_type": "display_data",
          "data": {
            "text/html": [
              "0.439393939393939"
            ],
            "text/markdown": "0.439393939393939",
            "text/latex": "0.439393939393939",
            "text/plain": [
              "[1] 0.4393939"
            ]
          },
          "metadata": {}
        },
        {
          "output_type": "display_data",
          "data": {
            "text/html": [
              "<style>\n",
              ".list-inline {list-style: none; margin:0; padding: 0}\n",
              ".list-inline>li {display: inline-block}\n",
              ".list-inline>li:not(:last-child)::after {content: \"\\00b7\"; padding: 0 .5ex}\n",
              "</style>\n",
              "<ol class=list-inline><li>68</li><li>4</li></ol>\n"
            ],
            "text/markdown": "1. 68\n2. 4\n\n\n",
            "text/latex": "\\begin{enumerate*}\n\\item 68\n\\item 4\n\\end{enumerate*}\n",
            "text/plain": [
              "[1] 68  4"
            ]
          },
          "metadata": {}
        }
      ],
      "source": [
        "classifier_cl2<-svm(formula=V179~.,data=data21,type='C-classification',kernel='linear',probability=TRUE)\n",
        "y_pred2<-predict(classifier_cl2,newdata=data22)\n",
        "cm<-table(data22$V179,y_pred2)\n",
        "cm\n",
        "(20+7+1+1)/66\n",
        "p_2<-predict(classifier_cl2,data21,decision.values=TRUE,probability=TRUE)\n",
        "p_2<-(attr(p_2,\"probabilities\")[1:68,])\n",
        "for(k in 1:4)\n",
        "{\n",
        "  mu[2,k]=mean(p_2[,k])\n",
        "  a[2,k]=sd(p_2[,k])\n",
        "}\n",
        "dim(p_2)"
      ]
    },
    {
      "cell_type": "code",
      "execution_count": 11,
      "metadata": {
        "colab": {
          "base_uri": "https://localhost:8080/",
          "height": 139
        },
        "outputId": "1bfd28fa-bfbb-4ed0-b421-251f09bae504",
        "id": "EYnefVjVDD8w"
      },
      "outputs": [
        {
          "output_type": "display_data",
          "data": {
            "text/plain": [
              "   y_pred2\n",
              "     1  2  3  4\n",
              "  1 28  0  0  0\n",
              "  2  0 16  0  0\n",
              "  3  0  0 11  0\n",
              "  4  0  0  0 13"
            ]
          },
          "metadata": {}
        },
        {
          "output_type": "display_data",
          "data": {
            "text/html": [
              "1"
            ],
            "text/markdown": "1",
            "text/latex": "1",
            "text/plain": [
              "[1] 1"
            ]
          },
          "metadata": {}
        }
      ],
      "source": [
        "y_pred2<-predict(classifier_cl2,newdata=data21)\n",
        "cm<-table(data21$V179,y_pred2)\n",
        "cm\n",
        "(28+16+11+13)/68"
      ]
    },
    {
      "cell_type": "code",
      "execution_count": 40,
      "metadata": {
        "colab": {
          "base_uri": "https://localhost:8080/",
          "height": 139
        },
        "outputId": "9a21d6f7-2045-4fa3-ba1e-e3c82cdde8fa",
        "id": "1glDwJzIn0Gg"
      },
      "outputs": [
        {
          "output_type": "display_data",
          "data": {
            "text/plain": [
              "   y_pred3\n",
              "     1  2  3  4\n",
              "  1 23  1  1  2\n",
              "  2  2 13  1  0\n",
              "  3  6  0  4  0\n",
              "  4  6  0  0  7"
            ]
          },
          "metadata": {}
        },
        {
          "output_type": "display_data",
          "data": {
            "text/html": [
              "0.712121212121212"
            ],
            "text/markdown": "0.712121212121212",
            "text/latex": "0.712121212121212",
            "text/plain": [
              "[1] 0.7121212"
            ]
          },
          "metadata": {}
        }
      ],
      "source": [
        "classifier_cl3<-svm(formula=V217~.,data=data31,type='C-classification',kernel='linear',probability=TRUE)\n",
        "y_pred3<-predict(classifier_cl3,newdata=data32)\n",
        "cm<-table(data32$V217,y_pred3)\n",
        "cm\n",
        "(23+13+4+7)/66\n",
        "p_3<-predict(classifier_cl3,data31,decision.values=TRUE,probability=TRUE)\n",
        "p_3<-(attr(p_3,\"probabilities\")[1:68,])\n",
        "for(k in 1:4)\n",
        "{\n",
        "  mu[3,k]=mean(p_3[,k])\n",
        "  a[3,k]=sd(p_3[,k])\n",
        "}"
      ]
    },
    {
      "cell_type": "code",
      "execution_count": 13,
      "metadata": {
        "id": "igCsbhqt0rYV",
        "colab": {
          "base_uri": "https://localhost:8080/",
          "height": 139
        },
        "outputId": "1649e494-0469-48f4-ef30-bf0aa6c2e767"
      },
      "outputs": [
        {
          "output_type": "display_data",
          "data": {
            "text/plain": [
              "   y_pred3\n",
              "     1  2  3  4\n",
              "  1 28  0  0  0\n",
              "  2  0 16  0  0\n",
              "  3  0  0 11  0\n",
              "  4  0  0  0 13"
            ]
          },
          "metadata": {}
        },
        {
          "output_type": "display_data",
          "data": {
            "text/html": [
              "1"
            ],
            "text/markdown": "1",
            "text/latex": "1",
            "text/plain": [
              "[1] 1"
            ]
          },
          "metadata": {}
        }
      ],
      "source": [
        "y_pred3<-predict(classifier_cl3,newdata=data31)\n",
        "cm<-table(data31$V217,y_pred3)\n",
        "cm\n",
        "(28+16+11+13)/68"
      ]
    },
    {
      "cell_type": "code",
      "execution_count": 41,
      "metadata": {
        "id": "rXFf0DTT06nN",
        "colab": {
          "base_uri": "https://localhost:8080/",
          "height": 139
        },
        "outputId": "4f457c58-5c10-4b68-f520-f26d5d39d74d"
      },
      "outputs": [
        {
          "output_type": "display_data",
          "data": {
            "text/plain": [
              "   y_pred4\n",
              "     1  2  3  4\n",
              "  1 22  1  2  2\n",
              "  2 12  1  1  2\n",
              "  3  5  1  3  1\n",
              "  4  8  2  1  2"
            ]
          },
          "metadata": {}
        },
        {
          "output_type": "display_data",
          "data": {
            "text/html": [
              "0.424242424242424"
            ],
            "text/markdown": "0.424242424242424",
            "text/latex": "0.424242424242424",
            "text/plain": [
              "[1] 0.4242424"
            ]
          },
          "metadata": {}
        }
      ],
      "source": [
        "classifier_cl4<-svm(formula=V2001~.,data=data41,type='C-classification',kernel='linear',probability=TRUE)\n",
        "y_pred4<-predict(classifier_cl4,newdata=data42)\n",
        "cm<-table(data42$V2001,y_pred4)\n",
        "cm\n",
        "(22+1+3+2)/66\n",
        "p_4<-predict(classifier_cl4,data41,probability=TRUE)\n",
        "p_4<-(attr(p_4,\"probabilities\"))\n",
        "for(k in 1:4)\n",
        "{\n",
        "  mu[4,k]=mean(p_4[,k])\n",
        "  a[4,k]=sd(p_4[,k])\n",
        "}"
      ]
    },
    {
      "cell_type": "code",
      "execution_count": 15,
      "metadata": {
        "colab": {
          "base_uri": "https://localhost:8080/",
          "height": 139
        },
        "outputId": "2ec3f939-aba6-4385-a91a-5888856763af",
        "id": "RvbFDptcE4G9"
      },
      "outputs": [
        {
          "output_type": "display_data",
          "data": {
            "text/plain": [
              "   y_pred4\n",
              "     1  2  3  4\n",
              "  1 28  0  0  0\n",
              "  2  0 16  0  0\n",
              "  3  0  0 11  0\n",
              "  4  0  0  0 13"
            ]
          },
          "metadata": {}
        },
        {
          "output_type": "display_data",
          "data": {
            "text/html": [
              "1"
            ],
            "text/markdown": "1",
            "text/latex": "1",
            "text/plain": [
              "[1] 1"
            ]
          },
          "metadata": {}
        }
      ],
      "source": [
        "y_pred4<-predict(classifier_cl4,newdata=data41)\n",
        "cm<-table(data41$V2001,y_pred4)\n",
        "cm\n",
        "(28+16+11+13)/68"
      ]
    },
    {
      "cell_type": "code",
      "execution_count": 16,
      "metadata": {
        "id": "5KOJ5-IOqG9J",
        "colab": {
          "base_uri": "https://localhost:8080/"
        },
        "outputId": "9d1f0c8c-5703-4f5c-b496-ec50e5b788ba"
      },
      "outputs": [
        {
          "output_type": "stream",
          "name": "stderr",
          "text": [
            "Installing package into ‘/usr/local/lib/R/site-library’\n",
            "(as ‘lib’ is unspecified)\n",
            "\n",
            "also installing the dependencies ‘Rcpp’, ‘misc3d’, ‘FNN’, ‘kernlab’, ‘mclust’, ‘multicool’, ‘mvtnorm’, ‘plot3D’, ‘pracma’\n",
            "\n",
            "\n"
          ]
        }
      ],
      "source": [
        "install.packages(\"ks\")"
      ]
    },
    {
      "cell_type": "code",
      "execution_count": 17,
      "metadata": {
        "id": "fORX7KWSqXOJ",
        "colab": {
          "base_uri": "https://localhost:8080/"
        },
        "outputId": "802af674-af95-40c0-88b4-e68402c3ee48"
      },
      "outputs": [
        {
          "output_type": "stream",
          "name": "stderr",
          "text": [
            "\n",
            "Attaching package: ‘ks’\n",
            "\n",
            "\n",
            "The following objects are masked from ‘package:lava’:\n",
            "\n",
            "    compare, vec\n",
            "\n",
            "\n"
          ]
        }
      ],
      "source": [
        "library(\"ks\")"
      ]
    },
    {
      "cell_type": "code",
      "execution_count": 18,
      "metadata": {
        "id": "lYll7MIIhu_F"
      },
      "outputs": [],
      "source": [
        "dx=density(as.numeric(unlist(data11$V2001==1)))\n",
        "dy=density(as.numeric(unlist(data11$V2001==2)))\n",
        "dz=density(as.numeric(unlist(data11$V2001==3)))\n",
        "dw=density(as.numeric(unlist(data11$V2001==4)))\n",
        "poi1<-which(diff(dx$y>dy$y)!=0)\n",
        "poi2<-which(diff(dy$y>dz$y)!=0)\n",
        "poi3<-which(diff(dx$y>dz$y)!=0)\n",
        "poi4<-which(diff(dx$y>dw$y)!=0)\n",
        "poi5<-which(diff(dw$y>dz$y)!=0)\n",
        "poi6<-which(diff(dy$y>dw$y)!=0)\n",
        "m1<-as.numeric(unlist(data11$V2001==1))\n",
        "m2<-as.numeric(unlist(data11$V2001==2))\n",
        "m3<-as.numeric(unlist(data11$V2001==3))\n",
        "m4<-as.numeric(unlist(data11$V2001==4))\n",
        "fhat1<-kdde(m1,deriv.order=1)\n",
        "fhat2<-kdde(m2,deriv.order=1)\n",
        "fhat3<-kdde(m3,deriv.order=1)\n",
        "fhat4<-kdde(m4,deriv.order=1)\n",
        "pr12<-predict(fhat1,x=poi1)\n",
        "pr13<-predict(fhat1,x=poi3)\n",
        "pr14<-predict(fhat1,x=poi4)\n",
        "pr21<-predict(fhat2,x=poi1)\n",
        "pr23<-predict(fhat2,x=poi2)\n",
        "pr24<-predict(fhat2,x=poi6)\n",
        "pr31<-predict(fhat3,x=poi3)\n",
        "pr32<-predict(fhat3,x=poi2)\n",
        "pr34<-predict(fhat3,x=poi5)\n",
        "pr41<-predict(fhat4,x=poi4)\n",
        "pr42<-predict(fhat4,x=poi6)\n",
        "pr43<-predict(fhat4,x=poi5)"
      ]
    },
    {
      "cell_type": "code",
      "source": [
        "dx=density(as.numeric(unlist(data11$V2001)),bw=100)\n",
        "pt1=approx(dx$x,dx$y,xout=poi1)$y\n",
        "pt2=approx(dx$x,dx$y,xout=poi2)$y\n",
        "pt3=approx(dx$x,dx$y,xout=poi3)$y\n",
        "pt4=approx(dx$x,dx$y,xout=poi4)$y\n",
        "pt5=approx(dx$x,dx$y,xout=poi5)$y\n",
        "pt6=approx(dx$x,dx$y,xout=poi6)$y"
      ],
      "metadata": {
        "id": "P9Mkw-zkQ_Wz"
      },
      "execution_count": 19,
      "outputs": []
    },
    {
      "cell_type": "code",
      "execution_count": 20,
      "metadata": {
        "id": "eO5h0I1jTnxo"
      },
      "outputs": [],
      "source": [
        "mu1=mean(data11$V2001==1)"
      ]
    },
    {
      "cell_type": "code",
      "execution_count": 21,
      "metadata": {
        "id": "vdcyzDs3ToWa"
      },
      "outputs": [],
      "source": [
        "mu2=mean(data11$V2001==2)"
      ]
    },
    {
      "cell_type": "code",
      "execution_count": 22,
      "metadata": {
        "id": "AHI5RXi6Tmgo"
      },
      "outputs": [],
      "source": [
        "mu3=mean(data11$V2001==3)"
      ]
    },
    {
      "cell_type": "code",
      "source": [
        "mu4=mean(data11$V2001==4)"
      ],
      "metadata": {
        "id": "XlxuvmmXVQrS"
      },
      "execution_count": 23,
      "outputs": []
    },
    {
      "cell_type": "code",
      "execution_count": 24,
      "metadata": {
        "id": "hbDpu7gswAR1"
      },
      "outputs": [],
      "source": [
        "var1=(sd(data11$V2001==1))^2"
      ]
    },
    {
      "cell_type": "code",
      "execution_count": 25,
      "metadata": {
        "id": "Wq86cugIVAEE"
      },
      "outputs": [],
      "source": [
        "var2=(sd(data11$V2001==2))^2"
      ]
    },
    {
      "cell_type": "code",
      "execution_count": 26,
      "metadata": {
        "id": "hbsjTjQ1VFJt"
      },
      "outputs": [],
      "source": [
        "var3=(sd(data11$V2001==3))^2"
      ]
    },
    {
      "cell_type": "code",
      "execution_count": 27,
      "metadata": {
        "id": "IAklhTSFVkzp"
      },
      "outputs": [],
      "source": [
        "var4=(sd(data11$V2001==4))^2"
      ]
    },
    {
      "cell_type": "code",
      "execution_count": 42,
      "metadata": {
        "id": "3W7ahhxHfivf"
      },
      "outputs": [],
      "source": [
        "for(i in 1:4)\n",
        "covfP[4,i]=cov(p_4[,i],(data11$V2001==i))"
      ]
    },
    {
      "cell_type": "code",
      "execution_count": 43,
      "metadata": {
        "id": "S4PoT1KUgIvI"
      },
      "outputs": [],
      "source": [
        "for(i in 1:4)\n",
        "covfP[3,i]=cov(p_3[,i],(data11$V2001==i))"
      ]
    },
    {
      "cell_type": "code",
      "execution_count": 44,
      "metadata": {
        "id": "7yAGXVrMgJLX"
      },
      "outputs": [],
      "source": [
        "for(i in 1:4)\n",
        "covfP[2,i]=cov(p_2[,i],(data11$V2001==i))"
      ]
    },
    {
      "cell_type": "code",
      "execution_count": 45,
      "metadata": {
        "id": "OjTIFjPZgJVH"
      },
      "outputs": [],
      "source": [
        "for(i in 1:4)\n",
        "covfP[1,i]=cov(p_1[,i],(data11$V2001==i))"
      ]
    },
    {
      "cell_type": "code",
      "execution_count": 32,
      "metadata": {
        "colab": {
          "base_uri": "https://localhost:8080/",
          "height": 160
        },
        "id": "wMO-u-zUTXhf",
        "outputId": "c3b360a3-32bc-4531-83a5-e6902227fbce"
      },
      "outputs": [
        {
          "output_type": "display_data",
          "data": {
            "text/html": [
              "<table class=\"dataframe\">\n",
              "<caption>A matrix: 4 × 4 of type dbl</caption>\n",
              "<tbody>\n",
              "\t<tr><td>-0.01244650</td><td> 0.0122222730</td><td>0.003832798</td><td>-0.011469154</td></tr>\n",
              "\t<tr><td> 0.04931719</td><td>-0.0003636109</td><td>0.013730346</td><td>-0.005633483</td></tr>\n",
              "\t<tr><td> 0.14706328</td><td> 0.0884488101</td><td>0.090270417</td><td> 0.090363357</td></tr>\n",
              "\t<tr><td> 0.02567741</td><td>-0.0050180333</td><td>0.011768507</td><td> 0.008507345</td></tr>\n",
              "</tbody>\n",
              "</table>\n"
            ],
            "text/markdown": "\nA matrix: 4 × 4 of type dbl\n\n| -0.01244650 |  0.0122222730 | 0.003832798 | -0.011469154 |\n|  0.04931719 | -0.0003636109 | 0.013730346 | -0.005633483 |\n|  0.14706328 |  0.0884488101 | 0.090270417 |  0.090363357 |\n|  0.02567741 | -0.0050180333 | 0.011768507 |  0.008507345 |\n\n",
            "text/latex": "A matrix: 4 × 4 of type dbl\n\\begin{tabular}{llll}\n\t -0.01244650 &  0.0122222730 & 0.003832798 & -0.011469154\\\\\n\t  0.04931719 & -0.0003636109 & 0.013730346 & -0.005633483\\\\\n\t  0.14706328 &  0.0884488101 & 0.090270417 &  0.090363357\\\\\n\t  0.02567741 & -0.0050180333 & 0.011768507 &  0.008507345\\\\\n\\end{tabular}\n",
            "text/plain": [
              "     [,1]        [,2]          [,3]        [,4]        \n",
              "[1,] -0.01244650  0.0122222730 0.003832798 -0.011469154\n",
              "[2,]  0.04931719 -0.0003636109 0.013730346 -0.005633483\n",
              "[3,]  0.14706328  0.0884488101 0.090270417  0.090363357\n",
              "[4,]  0.02567741 -0.0050180333 0.011768507  0.008507345"
            ]
          },
          "metadata": {}
        }
      ],
      "source": [
        "covfP"
      ]
    },
    {
      "cell_type": "code",
      "execution_count": 46,
      "metadata": {
        "id": "Lrfs2KtYjBCn"
      },
      "outputs": [],
      "source": [
        "covf=array(0,dim=c(4,4,4))\n",
        "for(i in 1:4)\n",
        "{\n",
        "  covf[i,1,2]=covf[i,2,1]=cov(p_1[,i],p_2[,i])\n",
        "  covf[i,1,3]=covf[i,3,1]=cov(p_1[,i],p_3[,i])\n",
        "  covf[i,1,4]=covf[i,4,1]=cov(p_1[,i],p_4[,i])\n",
        "  covf[i,2,3]=covf[i,3,2]=cov(p_2[,i],p_3[,i])\n",
        "  covf[i,2,4]=covf[i,4,2]=cov(p_2[,i],p_4[,i])\n",
        "  covf[i,3,4]=covf[i,4,3]=cov(p_3[,i],p_4[,i])\n",
        "}"
      ]
    },
    {
      "cell_type": "code",
      "execution_count": 47,
      "metadata": {
        "id": "8NX7JLC25GgM"
      },
      "outputs": [],
      "source": [
        "E1=c() #between classes 1 and 2\n",
        "E2=c() #between classes 2 and 3\n",
        "E3=c() #between classes 3 and 1\n",
        "E4=c() #between classes 4 and 1\n",
        "E5=c() #between classes 4 and 2\n",
        "E6=c() #between classes 4 and 3"
      ]
    },
    {
      "cell_type": "code",
      "execution_count": 48,
      "metadata": {
        "id": "ZFXTpu2CgG4N",
        "colab": {
          "base_uri": "https://localhost:8080/",
          "height": 121
        },
        "outputId": "8bd9872d-b422-44b7-868c-c27de5d545b8"
      },
      "outputs": [
        {
          "output_type": "display_data",
          "data": {
            "text/html": [
              "<style>\n",
              ".list-inline {list-style: none; margin:0; padding: 0}\n",
              ".list-inline>li {display: inline-block}\n",
              ".list-inline>li:not(:last-child)::after {content: \"\\00b7\"; padding: 0 .5ex}\n",
              "</style>\n",
              "<ol class=list-inline><li>0.44137922553524</li><li>0.25191609353944</li><li>0.0662978914903678</li><li>0.435410398230795</li></ol>\n"
            ],
            "text/markdown": "1. 0.44137922553524\n2. 0.25191609353944\n3. 0.0662978914903678\n4. 0.435410398230795\n\n\n",
            "text/latex": "\\begin{enumerate*}\n\\item 0.44137922553524\n\\item 0.25191609353944\n\\item 0.0662978914903678\n\\item 0.435410398230795\n\\end{enumerate*}\n",
            "text/plain": [
              "[1] 0.44137923 0.25191609 0.06629789 0.43541040"
            ]
          },
          "metadata": {}
        },
        {
          "output_type": "display_data",
          "data": {
            "text/html": [
              "<style>\n",
              ".list-inline {list-style: none; margin:0; padding: 0}\n",
              ".list-inline>li {display: inline-block}\n",
              ".list-inline>li:not(:last-child)::after {content: \"\\00b7\"; padding: 0 .5ex}\n",
              "</style>\n",
              "<ol class=list-inline><li>0.296438236267845</li><li>0.268836963572469</li><li>0.0450076613868994</li><li>0.340278070252459</li></ol>\n"
            ],
            "text/markdown": "1. 0.296438236267845\n2. 0.268836963572469\n3. 0.0450076613868994\n4. 0.340278070252459\n\n\n",
            "text/latex": "\\begin{enumerate*}\n\\item 0.296438236267845\n\\item 0.268836963572469\n\\item 0.0450076613868994\n\\item 0.340278070252459\n\\end{enumerate*}\n",
            "text/plain": [
              "[1] 0.29643824 0.26883696 0.04500766 0.34027807"
            ]
          },
          "metadata": {}
        },
        {
          "output_type": "display_data",
          "data": {
            "text/html": [
              "<style>\n",
              ".list-inline {list-style: none; margin:0; padding: 0}\n",
              ".list-inline>li {display: inline-block}\n",
              ".list-inline>li:not(:last-child)::after {content: \"\\00b7\"; padding: 0 .5ex}\n",
              "</style>\n",
              "<ol class=list-inline><li>0.404163277544134</li><li>0.244549363975568</li><li>0.0492124979544939</li><li>0.35049870233617</li></ol>\n"
            ],
            "text/markdown": "1. 0.404163277544134\n2. 0.244549363975568\n3. 0.0492124979544939\n4. 0.35049870233617\n\n\n",
            "text/latex": "\\begin{enumerate*}\n\\item 0.404163277544134\n\\item 0.244549363975568\n\\item 0.0492124979544939\n\\item 0.35049870233617\n\\end{enumerate*}\n",
            "text/plain": [
              "[1] 0.4041633 0.2445494 0.0492125 0.3504987"
            ]
          },
          "metadata": {}
        },
        {
          "output_type": "display_data",
          "data": {
            "text/html": [
              "<style>\n",
              ".list-inline {list-style: none; margin:0; padding: 0}\n",
              ".list-inline>li {display: inline-block}\n",
              ".list-inline>li:not(:last-child)::after {content: \"\\00b7\"; padding: 0 .5ex}\n",
              "</style>\n",
              "<ol class=list-inline><li>0.464797090481913</li><li>0.266058783041781</li><li>0.0537140209243933</li><li>0.40635502018223</li></ol>\n"
            ],
            "text/markdown": "1. 0.464797090481913\n2. 0.266058783041781\n3. 0.0537140209243933\n4. 0.40635502018223\n\n\n",
            "text/latex": "\\begin{enumerate*}\n\\item 0.464797090481913\n\\item 0.266058783041781\n\\item 0.0537140209243933\n\\item 0.40635502018223\n\\end{enumerate*}\n",
            "text/plain": [
              "[1] 0.46479709 0.26605878 0.05371402 0.40635502"
            ]
          },
          "metadata": {}
        },
        {
          "output_type": "display_data",
          "data": {
            "text/html": [
              "<style>\n",
              ".list-inline {list-style: none; margin:0; padding: 0}\n",
              ".list-inline>li {display: inline-block}\n",
              ".list-inline>li:not(:last-child)::after {content: \"\\00b7\"; padding: 0 .5ex}\n",
              "</style>\n",
              "<ol class=list-inline><li>0.35704645779408</li><li>0.290331994671028</li><li>0.0488046197561473</li><li>0.395766036676596</li></ol>\n"
            ],
            "text/markdown": "1. 0.35704645779408\n2. 0.290331994671028\n3. 0.0488046197561473\n4. 0.395766036676596\n\n\n",
            "text/latex": "\\begin{enumerate*}\n\\item 0.35704645779408\n\\item 0.290331994671028\n\\item 0.0488046197561473\n\\item 0.395766036676596\n\\end{enumerate*}\n",
            "text/plain": [
              "[1] 0.35704646 0.29033199 0.04880462 0.39576604"
            ]
          },
          "metadata": {}
        },
        {
          "output_type": "display_data",
          "data": {
            "text/html": [
              "<style>\n",
              ".list-inline {list-style: none; margin:0; padding: 0}\n",
              ".list-inline>li {display: inline-block}\n",
              ".list-inline>li:not(:last-child)::after {content: \"\\00b7\"; padding: 0 .5ex}\n",
              "</style>\n",
              "<ol class=list-inline><li>0.319830135514947</li><li>0.283015423471767</li><li>0.032953937459739</li><li>0.311695948637258</li></ol>\n"
            ],
            "text/markdown": "1. 0.319830135514947\n2. 0.283015423471767\n3. 0.032953937459739\n4. 0.311695948637258\n\n\n",
            "text/latex": "\\begin{enumerate*}\n\\item 0.319830135514947\n\\item 0.283015423471767\n\\item 0.032953937459739\n\\item 0.311695948637258\n\\end{enumerate*}\n",
            "text/plain": [
              "[1] 0.31983014 0.28301542 0.03295394 0.31169595"
            ]
          },
          "metadata": {}
        }
      ],
      "source": [
        "#Expected added error\n",
        "for(i in 1:4)\n",
        "{\n",
        "  E1[i]=(mu[i,1]-mu[i,2]-mu1+mu2)^2+((a[i,1])^2+(a[i,2])^2+var1+var2-2*covfP[i,1]-2*covfP[i,2])\n",
        "  E2[i]=(mu[i,2]-mu[i,3]-mu2+mu3)^2+((a[i,2])^2+(a[i,3])^2+var2+var3-2*covfP[i,2]-2*covfP[i,3])\n",
        "  E3[i]=(mu[i,3]-mu[i,1]-mu3+mu1)^2+((a[i,3])^2+(a[i,1])^2+var3+var1-2*covfP[i,3]-2*covfP[i,1])\n",
        "  E5[i]=(mu[i,4]-mu[i,2]-mu4+mu2)^2+((a[i,4])^2+(a[i,2])^2+var4+var2-2*covfP[i,4]-2*covfP[i,2])\n",
        "  E6[i]=(mu[i,4]-mu[i,3]-mu4+mu3)^2+((a[i,4])^2+(a[i,3])^2+var4+var3-2*covfP[i,4]-2*covfP[i,3])\n",
        "  E4[i]=(mu[i,4]-mu[i,1]-mu4+mu1)^2+((a[i,4])^2+(a[i,1])^2+var4+var1-2*covfP[i,4]-2*covfP[i,1])\n",
        "}\n",
        "E1\n",
        "E2\n",
        "E3\n",
        "E4\n",
        "E5\n",
        "E6"
      ]
    },
    {
      "cell_type": "code",
      "execution_count": 96,
      "metadata": {
        "colab": {
          "base_uri": "https://localhost:8080/",
          "height": 52
        },
        "id": "raLduknb--CZ",
        "outputId": "bcb9f792-73d7-4c82-cbc1-27e3949a1157"
      },
      "outputs": [
        {
          "output_type": "display_data",
          "data": {
            "text/html": [
              "0.14073659368526"
            ],
            "text/markdown": "0.14073659368526",
            "text/latex": "0.14073659368526",
            "text/plain": [
              "[1] 0.1407366"
            ]
          },
          "metadata": {}
        },
        {
          "output_type": "display_data",
          "data": {
            "text/html": [
              "0.0662978931782657"
            ],
            "text/markdown": "0.0662978931782657",
            "text/latex": "0.0662978931782657",
            "text/plain": [
              "[1] 0.06629789"
            ]
          },
          "metadata": {}
        }
      ],
      "source": [
        "#finding optimal weights to combine modalities 3 and 2 for classes 1 and 2\n",
        "f<-function(w)\n",
        "{\n",
        "  b<-w\n",
        "  c<-(1-w)\n",
        "  ((mu[3,1]-mu[3,2]-mu1+mu2)*b)^2+((mu[2,1]-mu[2,2]-mu1+mu2)*c)^2+b*c*2*(mu[3,1]-mu[3,2]-mu1+mu2)*(mu[2,1]-mu[2,2]-mu1+mu2)+((a[3,1])^2+(a[3,2])^2+var1+var2-2*covfP[3,1]-2*covfP[3,2])*(b)^2+((a[2,1])^2+(a[2,2])^2+var1+var2-2*covfP[2,1]-2*covfP[2,2])*(c)^2+(covf[1,3,2]-covfP[3,1]-covfP[2,1]+var1+covf[2,3,2]-covfP[3,2]-covfP[2,2]+var2)*b*c*2\n",
        "\n",
        "}\n",
        "b11=optimize(f,interval=c(0,1),tol =1.0e-300)$minimum\n",
        "c11=1-b11\n",
        "#Expected added error simple averaging modality 3 And 2 for classes 1 and 2 \n",
        "E11=f(0.5)\n",
        "E11\n",
        "#Expected added error weighted averaging modality 3 And 2 for classes 1 and 2 \n",
        "E11w=f(b11)\n",
        "E11w"
      ]
    },
    {
      "cell_type": "code",
      "execution_count": 97,
      "metadata": {
        "colab": {
          "base_uri": "https://localhost:8080/",
          "height": 52
        },
        "outputId": "35349485-43a1-4947-a816-4630b3c9ec6d",
        "id": "Mu1Qw1i2KhEx"
      },
      "outputs": [
        {
          "output_type": "display_data",
          "data": {
            "text/html": [
              "0.135133796806274"
            ],
            "text/markdown": "0.135133796806274",
            "text/latex": "0.135133796806274",
            "text/plain": [
              "[1] 0.1351338"
            ]
          },
          "metadata": {}
        },
        {
          "output_type": "display_data",
          "data": {
            "text/html": [
              "0.0537140226303197"
            ],
            "text/markdown": "0.0537140226303197",
            "text/latex": "0.0537140226303197",
            "text/plain": [
              "[1] 0.05371402"
            ]
          },
          "metadata": {}
        }
      ],
      "source": [
        "#finding optimal weights to combine modalities 3 and 2 for classes 1 and 4\n",
        "f<-function(w)\n",
        "{\n",
        "  b<-w\n",
        "  c<-(1-w)\n",
        "  ((mu[3,1]-mu[3,4]-mu1+mu4)*b)^2+((mu[2,1]-mu[2,4]-mu1+mu4)*c)^2+b*c*2*(mu[3,1]-mu[3,4]-mu1+mu4)*(mu[2,1]-mu[2,4]-mu1+mu4)+((a[3,1])^2+(a[3,4])^2+var1+var4-2*covfP[3,1]-2*covfP[3,4])*(b)^2+((a[2,1])^2+(a[2,4])^2+var1+var4-2*covfP[2,1]-2*covfP[2,4])*(c)^2+(covf[1,3,2]-covfP[3,1]-covfP[2,1]+var1+covf[4,3,2]-covfP[3,4]-covfP[2,4]+var4)*b*c*2\n",
        "\n",
        "}\n",
        "b14=optimize(f,interval=c(0,1),tol =1.0e-300)$minimum\n",
        "c14=1-b14\n",
        "#Expected added error simple averaging modality 3 And 2 for classes 1 and 4 \n",
        "E14=f(0.5)\n",
        "E14\n",
        "#Expected added error weighted averaging modality 3 And 2 for classes 1 and 4 \n",
        "E14w=f(b14)\n",
        "E14w"
      ]
    },
    {
      "cell_type": "code",
      "execution_count": 98,
      "metadata": {
        "colab": {
          "base_uri": "https://localhost:8080/",
          "height": 52
        },
        "outputId": "766eb101-fd8a-4a6a-9cac-7857df1ac035",
        "id": "PhR0AnKqY9PB"
      },
      "outputs": [
        {
          "output_type": "display_data",
          "data": {
            "text/html": [
              "0.140917415645272"
            ],
            "text/markdown": "0.140917415645272",
            "text/latex": "0.140917415645272",
            "text/plain": [
              "[1] 0.1409174"
            ]
          },
          "metadata": {}
        },
        {
          "output_type": "display_data",
          "data": {
            "text/html": [
              "0.0488046216666246"
            ],
            "text/markdown": "0.0488046216666246",
            "text/latex": "0.0488046216666246",
            "text/plain": [
              "[1] 0.04880462"
            ]
          },
          "metadata": {}
        }
      ],
      "source": [
        "#finding optimal weights to combine modalities 3 and 2 for classes 4 and 2\n",
        "f<-function(w)\n",
        "{\n",
        "  b<-w\n",
        "  c<-(1-w)\n",
        "  ((mu[3,4]-mu[3,2]-mu4+mu2)*b)^2+((mu[2,4]-mu[2,2]-mu4+mu2)*c)^2+b*c*2*(mu[3,4]-mu[3,2]-mu4+mu2)*(mu[2,4]-mu[2,2]-mu4+mu2)+((a[3,4])^2+(a[3,2])^2+var4+var2-2*covfP[3,4]-2*covfP[3,2])*(b)^2+((a[2,4])^2+(a[2,2])^2+var4+var2-2*covfP[2,4]-2*covfP[2,2])*(c)^2+(covf[4,3,2]-covfP[3,4]-covfP[2,4]+var4+covf[2,3,2]-covfP[3,2]-covfP[2,2]+var2)*b*c*2\n",
        "\n",
        "}\n",
        "b15=optimize(f,interval=c(0,1),tol =1.0e-300)$minimum\n",
        "c15=1-b15\n",
        "#Expected added error simple averaging modality 3 And 2 for classes 4 and 2 \n",
        "E15=f(0.5)\n",
        "E15\n",
        "#Expected added error weighted averaging modality 3 And 2 for classes 4 and 2 \n",
        "E15w=f(b15)\n",
        "E15w"
      ]
    },
    {
      "cell_type": "code",
      "execution_count": 99,
      "metadata": {
        "colab": {
          "base_uri": "https://localhost:8080/",
          "height": 52
        },
        "id": "Woo6RBG0Q2fn",
        "outputId": "cd91f978-7bb4-4419-a24f-fb1ec7b685cc"
      },
      "outputs": [
        {
          "output_type": "display_data",
          "data": {
            "text/html": [
              "0.130569707177699"
            ],
            "text/markdown": "0.130569707177699",
            "text/latex": "0.130569707177699",
            "text/plain": [
              "[1] 0.1305697"
            ]
          },
          "metadata": {}
        },
        {
          "output_type": "display_data",
          "data": {
            "text/html": [
              "0.0450076631693591"
            ],
            "text/markdown": "0.0450076631693591",
            "text/latex": "0.0450076631693591",
            "text/plain": [
              "[1] 0.04500766"
            ]
          },
          "metadata": {}
        }
      ],
      "source": [
        "#finding optimal weights to combine modalities 3 and 2 for classes 2 and 3\n",
        "f<-function(w)\n",
        "{\n",
        "  b<-w\n",
        "  c<-(1-w)\n",
        "  ((mu[3,2]-mu[3,3]-mu2+mu3)*b)^2+((mu[2,2]-mu[2,3]-mu2+mu3)*c)^2+b*c*2*(mu[3,2]-mu[3,3]-mu2+mu3)*(mu[2,2]-mu[2,3]-mu2+mu3)+((a[3,2])^2+(a[3,3])^2+var2+var3-2*covfP[3,2]-2*covfP[3,3])*(b)^2+((a[2,2])^2+(a[2,3])^2+var2+var3-2*covfP[2,2]-2*covfP[2,3])*(c)^2+(covf[2,3,2]-covfP[3,2]-covfP[2,2]+var2+covf[3,3,2]-covfP[3,3]-covfP[2,3]+var3)*b*c*2\n",
        "\n",
        "}\n",
        "b12=optimize(f,interval=c(0,1),tol =1.0e-300)$minimum\n",
        "c12=1-b12\n",
        "#Expected added error weighted averaging modality 1 and 2 for classes 2 and 3\n",
        "E12w=f(b12)\n",
        "#Expected added error simple averaging modality 1 and 2 for classes 2 and 3\n",
        "E12=f(0.5)\n",
        "E12\n",
        "E12w"
      ]
    },
    {
      "cell_type": "code",
      "execution_count": 100,
      "metadata": {
        "colab": {
          "base_uri": "https://localhost:8080/",
          "height": 52
        },
        "outputId": "7bb6d93b-42af-46b4-c379-cb97d2ed7322",
        "id": "0u205vqvKbuT"
      },
      "outputs": [
        {
          "output_type": "display_data",
          "data": {
            "text/html": [
              "0.125200795154097"
            ],
            "text/markdown": "0.125200795154097",
            "text/latex": "0.125200795154097",
            "text/plain": [
              "[1] 0.1252008"
            ]
          },
          "metadata": {}
        },
        {
          "output_type": "display_data",
          "data": {
            "text/html": [
              "0.0329539392498312"
            ],
            "text/markdown": "0.0329539392498312",
            "text/latex": "0.0329539392498312",
            "text/plain": [
              "[1] 0.03295394"
            ]
          },
          "metadata": {}
        }
      ],
      "source": [
        "#finding optimal weights to combine modalities 3 and 2 for classes 4 and 3\n",
        "f<-function(w)\n",
        "{\n",
        "  b<-w\n",
        "  c<-(1-w)\n",
        "  ((mu[3,4]-mu[3,3]-mu4+mu3)*b)^2+((mu[2,4]-mu[2,3]-mu4+mu3)*c)^2+b*c*2*(mu[3,4]-mu[3,3]-mu4+mu3)*(mu[2,4]-mu[2,3]-mu4+mu3)+((a[3,4])^2+(a[3,3])^2+var4+var3-2*covfP[3,4]-2*covfP[3,3])*(b)^2+((a[2,4])^2+(a[2,3])^2+var4+var3-2*covfP[2,4]-2*covfP[2,3])*(c)^2+(covf[4,3,2]-covfP[3,4]-covfP[2,4]+var4+covf[3,3,2]-covfP[3,3]-covfP[2,3]+var3)*b*c*2\n",
        "\n",
        "}\n",
        "b16=optimize(f,interval=c(0,1),tol =1.0e-300)$minimum\n",
        "c16=1-b16\n",
        "#Expected added error weighted averaging modality 1 and 2 for classes 4 and 3\n",
        "E16w=f(b16)\n",
        "#Expected added error simple averaging modality 1 and 2 for classes 4 and 3\n",
        "E16=f(0.5)\n",
        "E16\n",
        "E16w"
      ]
    },
    {
      "cell_type": "code",
      "execution_count": 101,
      "metadata": {
        "colab": {
          "base_uri": "https://localhost:8080/",
          "height": 52
        },
        "id": "54XcLYLWfLjt",
        "outputId": "dcd81451-d782-44fb-af3a-9d61507f8aff"
      },
      "outputs": [
        {
          "output_type": "display_data",
          "data": {
            "text/html": [
              "0.124550864875868"
            ],
            "text/markdown": "0.124550864875868",
            "text/latex": "0.124550864875868",
            "text/plain": [
              "[1] 0.1245509"
            ]
          },
          "metadata": {}
        },
        {
          "output_type": "display_data",
          "data": {
            "text/html": [
              "0.0492124995502726"
            ],
            "text/markdown": "0.0492124995502726",
            "text/latex": "0.0492124995502726",
            "text/plain": [
              "[1] 0.0492125"
            ]
          },
          "metadata": {}
        }
      ],
      "source": [
        "#finding optimal weights to combine modalities 3 and 2 for classes 1 and 3\n",
        "f<-function(w)\n",
        "{\n",
        "  b<-w\n",
        "  c<-(1-w)\n",
        "  ((mu[3,1]-mu[3,3]-mu1+mu3)*b)^2+((mu[2,1]-mu[2,3]-mu1+mu3)*c)^2+b*c*2*(mu[3,1]-mu[3,3]-mu1+mu3)*(mu[2,1]-mu[2,3]-mu1+mu3)+((a[3,1])^2+(a[3,3])^2+var1+var3-2*covfP[3,1]-2*covfP[3,3])*(b)^2+((a[2,1])^2+(a[2,3])^2+var1+var3-2*covfP[2,1]-2*covfP[2,3])*(c)^2+(covf[1,3,2]-covfP[3,1]-covfP[2,1]+var1+covf[3,3,2]-covfP[3,3]-covfP[2,3]+var3)*b*c*2\n",
        "\n",
        "}\n",
        "b13=optimize(f,interval=c(0,1),tol =1.0e-300)$minimum\n",
        "c13=1-b13\n",
        "#Expected added error weighted averaging modality 1 and 2 for classes 1 and 3\n",
        "E13w=f(b13)\n",
        "#Expected added error simple averaging modality 1 and 2 for classes 1 and 3\n",
        "E13=f(0.5)\n",
        "E13\n",
        "E13w"
      ]
    },
    {
      "cell_type": "code",
      "execution_count": 129,
      "metadata": {
        "colab": {
          "base_uri": "https://localhost:8080/",
          "height": 52
        },
        "id": "1d1FZuFXi3Oj",
        "outputId": "693c86ae-3f2d-44d4-9304-469c1d2dd6d8"
      },
      "outputs": [
        {
          "output_type": "display_data",
          "data": {
            "text/html": [
              "0.21978870152599"
            ],
            "text/markdown": "0.21978870152599",
            "text/latex": "0.21978870152599",
            "text/plain": [
              "[1] 0.2197887"
            ]
          },
          "metadata": {}
        },
        {
          "output_type": "display_data",
          "data": {
            "text/html": [
              "0.0662978946641414"
            ],
            "text/markdown": "0.0662978946641414",
            "text/latex": "0.0662978946641414",
            "text/plain": [
              "[1] 0.06629789"
            ]
          },
          "metadata": {}
        }
      ],
      "source": [
        "#finding optimal weights to combine modalities 1,2 and 3 for classes 1 and 2\n",
        "f<-function(w)\n",
        "{\n",
        "  b<-w[1]\n",
        "  c<-w[2]\n",
        "  d<-(1-w[1]-w[2])\n",
        "  ((mu[1,1]-mu[1,2]-mu1+mu2)*b)^2+((mu[2,1]-mu[2,2]-mu1+mu2)*c)^2+((mu[3,1]-mu[3,2]-mu1+mu2)*d)^2+b*c*2*(mu[1,1]-mu[1,2]-mu1+mu2)*(mu[2,1]-mu[2,2]-mu1+mu2)+2*b*d*(mu[1,1]-mu[1,2]-mu1+mu2)*(mu[3,1]-mu[3,2]-mu1+mu2)+2*c*d*(mu[3,1]-mu[3,2]-mu1+mu2)*(mu[2,1]-mu[2,2]-mu1+mu2)+((a[1,1])^2+(a[1,2])^2+var1+var2-2*covfP[1,1]-2*covfP[1,2])*(b)^2+((a[2,1])^2+(a[2,2])^2+var1+var2-2*covfP[2,1]-2*covfP[2,2])*(c)^2+((a[3,1])^2+(a[3,2])^2+var1+var2-2*covfP[3,1]-2*covfP[3,2])*(d)^2+(covf[1,1,2]-covfP[1,1]-covfP[2,1]+var1+covf[2,1,2]-covfP[1,2]-covfP[2,2]+var2)*b*c*2+(covf[1,1,3]-covfP[3,1]-covfP[1,1]+var1+covf[2,1,3]-covfP[3,2]-covfP[1,2]+var2)*b*d*2+(covf[1,2,3]-covfP[3,1]-covfP[2,1]+var1+covf[2,2,3]-covfP[3,2]-covfP[2,2]+var2)*c*d*2\n",
        "\n",
        "}\n",
        "w<-c(0.2,0.3)\n",
        "b111=constrOptim(w,f,NULL,ui=rbind(c(1,0),c(0,1),c(1,1),c(-1,-1)),mu = 1e-30000000000000,ci=c(0,0,0,-1))$par[1]\n",
        "c111=constrOptim(w,f,NULL,ui=rbind(c(1,0),c(0,1),c(1,1),c(-1,-1)),mu = 1e-30000000000000,ci=c(0,0,0,-1))$par[2]\n",
        "v<-c(b111,c111)\n",
        "#Expected added error simple averaging modality 1,2 and 3 for classes 1 and 2 \n",
        "E111=((mu[1,1]-mu[1,2]-mu1+mu2+mu[2,1]-mu[2,2]-mu1+mu2+mu[3,1]-mu[3,2]-mu1+mu2)/3)^2+((a[1,1])^2+(a[1,2])^2+var1+var2-2*covfP[1,1]-2*covfP[1,2]+(a[2,1])^2+(a[2,2])^2+var1+var2-2*covfP[2,1]-2*covfP[2,2]+(a[3,1])^2+(a[3,2])^2+var1+var2-2*covfP[3,1]-2*covfP[3,2])/9+2*(covf[1,1,2]-covfP[1,1]-covfP[2,1]+var1+covf[2,1,2]-covfP[1,2]-covfP[2,2]+var2+covf[1,2,3]-covfP[3,1]-covfP[2,1]+var1+covf[2,2,3]-covfP[3,2]-covfP[2,2]+var2+covf[1,1,3]-covfP[3,1]-covfP[1,1]+var1+covf[2,1,3]-covfP[3,2]-covfP[1,2]+var2)/9 \n",
        "E111\n",
        "#Expected added error weighted averaging modality 1,2 and 3 for classes 1 and 2 \n",
        "E111w=f(v)\n",
        "E111w"
      ]
    },
    {
      "cell_type": "code",
      "execution_count": 130,
      "metadata": {
        "colab": {
          "base_uri": "https://localhost:8080/",
          "height": 52
        },
        "outputId": "2e63446f-5ecb-4311-be45-ab8a57e289db",
        "id": "06hNm8RYb9U9"
      },
      "outputs": [
        {
          "output_type": "display_data",
          "data": {
            "text/html": [
              "0.200636488908835"
            ],
            "text/markdown": "0.200636488908835",
            "text/latex": "0.200636488908835",
            "text/plain": [
              "[1] 0.2006365"
            ]
          },
          "metadata": {}
        },
        {
          "output_type": "display_data",
          "data": {
            "text/html": [
              "0.0488046235481915"
            ],
            "text/markdown": "0.0488046235481915",
            "text/latex": "0.0488046235481915",
            "text/plain": [
              "[1] 0.04880462"
            ]
          },
          "metadata": {}
        }
      ],
      "source": [
        "#finding optimal weights to combine modalities 1,2 and 3 for classes 4 and 2\n",
        "f<-function(w)\n",
        "{\n",
        "  b<-w[1]\n",
        "  c<-w[2]\n",
        "  d<-(1-w[1]-w[2])\n",
        "  ((mu[1,4]-mu[1,2]-mu4+mu2)*b)^2+((mu[2,4]-mu[2,2]-mu4+mu2)*c)^2+((mu[3,4]-mu[3,2]-mu4+mu2)*d)^2+b*c*2*(mu[1,4]-mu[1,2]-mu4+mu2)*(mu[2,4]-mu[2,2]-mu4+mu2)+2*b*d*(mu[1,4]-mu[1,2]-mu4+mu2)*(mu[3,4]-mu[3,2]-mu4+mu2)+2*c*d*(mu[3,4]-mu[3,2]-mu4+mu2)*(mu[2,4]-mu[2,2]-mu4+mu2)+((a[1,4])^2+(a[1,2])^2+var4+var2-2*covfP[1,4]-2*covfP[1,2])*(b)^2+((a[2,4])^2+(a[2,2])^2+var4+var2-2*covfP[2,4]-2*covfP[2,2])*(c)^2+((a[3,4])^2+(a[3,2])^2+var4+var2-2*covfP[3,4]-2*covfP[3,2])*(d)^2+(covf[4,1,2]-covfP[1,4]-covfP[2,4]+var4+covf[2,1,2]-covfP[1,2]-covfP[2,2]+var2)*b*c*2+(covf[4,1,3]-covfP[3,4]-covfP[1,4]+var4+covf[2,1,3]-covfP[3,2]-covfP[1,2]+var2)*b*d*2+(covf[4,2,3]-covfP[3,4]-covfP[2,4]+var4+covf[2,2,3]-covfP[3,2]-covfP[2,2]+var2)*c*d*2\n",
        "\n",
        "}\n",
        "w<-c(0.2,0.3)\n",
        "b115=constrOptim(w,f,NULL,ui=rbind(c(1,0),c(0,1),c(1,1),c(-1,-1)),mu = 1e-30000000000000,ci=c(0,0,0,-1))$par[1]\n",
        "c115=constrOptim(w,f,NULL,ui=rbind(c(1,0),c(0,1),c(1,1),c(-1,-1)),mu = 1e-30000000000000,ci=c(0,0,0,-1))$par[2]\n",
        "v<-c(b115,c115)\n",
        "#Expected added error simple averaging modality 1,2 and 3 for classes 4 and 2 \n",
        "E115=f(c(1/3,1/3))\n",
        "E115\n",
        "#Expected added error weighted averaging modality 1,2 and 3 for classes 4 and 2 \n",
        "E115w=f(v)\n",
        "E115w"
      ]
    },
    {
      "cell_type": "code",
      "execution_count": 131,
      "metadata": {
        "colab": {
          "base_uri": "https://localhost:8080/",
          "height": 52
        },
        "outputId": "14d3c019-eb9d-4943-c39f-4a36de56c598",
        "id": "lqu-m8o2PXha"
      },
      "outputs": [
        {
          "output_type": "display_data",
          "data": {
            "text/html": [
              "0.220864635636533"
            ],
            "text/markdown": "0.220864635636533",
            "text/latex": "0.220864635636533",
            "text/plain": [
              "[1] 0.2208646"
            ]
          },
          "metadata": {}
        },
        {
          "output_type": "display_data",
          "data": {
            "text/html": [
              "0.0537140236091355"
            ],
            "text/markdown": "0.0537140236091355",
            "text/latex": "0.0537140236091355",
            "text/plain": [
              "[1] 0.05371402"
            ]
          },
          "metadata": {}
        }
      ],
      "source": [
        "#finding optimal weights to combine modalities 1,2 and 3 for classes 1 and 4\n",
        "f<-function(w)\n",
        "{\n",
        "  b<-w[1]\n",
        "  c<-w[2]\n",
        "  d<-(1-w[1]-w[2])\n",
        "  ((mu[1,1]-mu[1,4]-mu1+mu4)*b)^2+((mu[2,1]-mu[2,4]-mu1+mu4)*c)^2+((mu[3,1]-mu[3,4]-mu1+mu4)*d)^2+b*c*2*(mu[1,1]-mu[1,4]-mu1+mu4)*(mu[2,1]-mu[2,4]-mu1+mu4)+2*b*d*(mu[1,1]-mu[1,4]-mu1+mu4)*(mu[3,1]-mu[3,4]-mu1+mu4)+2*c*d*(mu[3,1]-mu[3,4]-mu1+mu4)*(mu[2,1]-mu[2,4]-mu1+mu4)+((a[1,1])^2+(a[1,4])^2+var1+var4-2*covfP[1,1]-2*covfP[1,4])*(b)^2+((a[2,1])^2+(a[2,4])^2+var1+var4-2*covfP[2,1]-2*covfP[2,4])*(c)^2+((a[3,1])^2+(a[3,4])^2+var1+var4-2*covfP[3,1]-2*covfP[3,4])*(d)^2+(covf[1,1,2]-covfP[1,1]-covfP[2,1]+var1+covf[4,1,2]-covfP[1,4]-covfP[2,4]+var4)*b*c*2+(covf[1,1,3]-covfP[3,1]-covfP[1,1]+var1+covf[4,1,3]-covfP[3,4]-covfP[1,4]+var4)*b*d*2+(covf[1,2,3]-covfP[3,1]-covfP[2,1]+var1+covf[4,2,3]-covfP[3,4]-covfP[2,4]+var4)*c*d*2\n",
        "\n",
        "}\n",
        "w<-c(0.2,0.3)\n",
        "b114=constrOptim(w,f,NULL,ui=rbind(c(1,0),c(0,1),c(1,1),c(-1,-1)),mu = 1e-30000000000000,ci=c(0,0,0,-1))$par[1]\n",
        "c114=constrOptim(w,f,NULL,ui=rbind(c(1,0),c(0,1),c(1,1),c(-1,-1)),mu = 1e-30000000000000,ci=c(0,0,0,-1))$par[2]\n",
        "v<-c(b114,c114)\n",
        "#Expected added error simple averaging modality 1,2 and 3 for classes 1 and 4 \n",
        "E114=f(c(1/3,1/3))\n",
        "E114\n",
        "#Expected added error weighted averaging modality 1,2 and 3 for classes 1 and 4 \n",
        "E114w=f(v)\n",
        "E114w"
      ]
    },
    {
      "cell_type": "code",
      "execution_count": 132,
      "metadata": {
        "colab": {
          "base_uri": "https://localhost:8080/",
          "height": 52
        },
        "outputId": "016f596f-97f9-4356-8aa4-7d48e25a0a29",
        "id": "Fy8Mnrs8d5SB"
      },
      "outputs": [
        {
          "output_type": "display_data",
          "data": {
            "text/html": [
              "0.178547550727111"
            ],
            "text/markdown": "0.178547550727111",
            "text/latex": "0.178547550727111",
            "text/plain": [
              "[1] 0.1785476"
            ]
          },
          "metadata": {}
        },
        {
          "output_type": "display_data",
          "data": {
            "text/html": [
              "0.0329539389257672"
            ],
            "text/markdown": "0.0329539389257672",
            "text/latex": "0.0329539389257672",
            "text/plain": [
              "[1] 0.03295394"
            ]
          },
          "metadata": {}
        }
      ],
      "source": [
        "#finding optimal weights to combine modalities 1,2 and 3 for classes 3 and 4\n",
        "f<-function(w)\n",
        "{\n",
        "  b<-w[1]\n",
        "  c<-w[2]\n",
        "  d<-(1-w[1]-w[2])\n",
        "  ((mu[1,3]-mu[1,4]-mu3+mu4)*b)^2+((mu[2,3]-mu[2,4]-mu3+mu4)*c)^2+((mu[3,3]-mu[3,4]-mu3+mu4)*d)^2+b*c*2*(mu[1,3]-mu[1,4]-mu3+mu4)*(mu[2,3]-mu[2,4]-mu3+mu4)+2*b*d*(mu[1,3]-mu[1,4]-mu3+mu4)*(mu[3,3]-mu[3,4]-mu3+mu4)+2*c*d*(mu[3,3]-mu[3,4]-mu3+mu4)*(mu[2,3]-mu[2,4]-mu3+mu4)+((a[1,3])^2+(a[1,4])^2+var3+var4-2*covfP[1,3]-2*covfP[1,4])*(b)^2+((a[2,3])^2+(a[2,4])^2+var3+var4-2*covfP[2,3]-2*covfP[2,4])*(c)^2+((a[3,3])^2+(a[3,4])^2+var3+var4-2*covfP[3,3]-2*covfP[3,4])*(d)^2+(covf[3,1,2]-covfP[1,3]-covfP[2,3]+var3+covf[4,1,2]-covfP[1,4]-covfP[2,4]+var4)*b*c*2+(covf[3,1,3]-covfP[3,3]-covfP[1,3]+var3+covf[4,1,3]-covfP[3,4]-covfP[1,4]+var4)*b*d*2+(covf[3,2,3]-covfP[3,3]-covfP[2,3]+var3+covf[4,2,3]-covfP[3,4]-covfP[2,4]+var4)*c*d*2\n",
        "\n",
        "}\n",
        "w<-c(0.2,0.3)\n",
        "b116=constrOptim(w,f,NULL,ui=rbind(c(1,0),c(0,1),c(1,1),c(-1,-1)),mu = 1e-30000000000000,ci=c(0,0,0,-1))$par[1]\n",
        "c116=constrOptim(w,f,NULL,ui=rbind(c(1,0),c(0,1),c(1,1),c(-1,-1)),mu = 1e-30000000000000,ci=c(0,0,0,-1))$par[2]\n",
        "v<-c(b116,c116)\n",
        "#Expected added error simple averaging modality 1,2 and 3 for classes 3 and 4 \n",
        "E116=f(c(1/3,1/3))\n",
        "E116\n",
        "#Expected added error weighted averaging modality 1,2 and 3 for classes 3 and 4 \n",
        "E116w=f(v)\n",
        "E116w"
      ]
    },
    {
      "cell_type": "code",
      "execution_count": 133,
      "metadata": {
        "colab": {
          "base_uri": "https://localhost:8080/",
          "height": 52
        },
        "id": "qQlO8SdENZm5",
        "outputId": "24f0f91c-1488-4f40-dc0f-3550a4e96872"
      },
      "outputs": [
        {
          "output_type": "display_data",
          "data": {
            "text/html": [
              "0.177303933271415"
            ],
            "text/markdown": "0.177303933271415",
            "text/latex": "0.177303933271415",
            "text/plain": [
              "[1] 0.1773039"
            ]
          },
          "metadata": {}
        },
        {
          "output_type": "display_data",
          "data": {
            "text/html": [
              "0.045007669155433"
            ],
            "text/markdown": "0.045007669155433",
            "text/latex": "0.045007669155433",
            "text/plain": [
              "[1] 0.04500767"
            ]
          },
          "metadata": {}
        }
      ],
      "source": [
        "#finding optimal weights to combine modalities 1,2 and 3 for classes 2 and 3\n",
        "f<-function(w)\n",
        "{\n",
        "  b<-w[1]\n",
        "  c<-w[2]\n",
        "  d<-(1-w[1]-w[2])\n",
        "  ((mu[1,2]-mu[1,3]-mu2+mu3)*b)^2+((mu[2,2]-mu[2,3]-mu2+mu3)*c)^2+((mu[3,2]-mu[3,3]-mu2+mu3)*d)^2+b*c*2*(mu[1,2]-mu[1,3]-mu2+mu3)*(mu[2,2]-mu[2,3]-mu2+mu3)+2*b*d*(mu[1,2]-mu[1,3]-mu2+mu3)*(mu[3,2]-mu[3,3]-mu2+mu3)+2*c*d*(mu[3,2]-mu[3,3]-mu2+mu3)*(mu[2,2]-mu[2,3]-mu2+mu3)+((a[1,2])^2+(a[1,3])^2+var2+var3-2*covfP[1,2]-2*covfP[1,3])*(b)^2+((a[2,2])^2+(a[2,3])^2+var2+var3-2*covfP[2,2]-2*covfP[2,3])*(c)^2+((a[3,2])^2+(a[3,3])^2+var2+var3-2*covfP[3,2]-2*covfP[3,3])*(d)^2+(covf[2,1,2]-covfP[1,2]-covfP[2,2]+var2+covf[3,1,2]-covfP[1,3]-covfP[2,3]+var3)*b*c*2+(covf[2,1,3]-covfP[3,2]-covfP[1,2]+var2+covf[3,1,3]-covfP[3,3]-covfP[1,3]+var3)*b*d*2+(covf[2,2,3]-covfP[3,2]-covfP[2,2]+var2+covf[3,2,3]-covfP[3,3]-covfP[2,3]+var3)*c*d*2\n",
        "\n",
        "}\n",
        "w<-c(0.2,0.3)\n",
        "b112=constrOptim(w,f,NULL,ui=rbind(c(1,0),c(0,1),c(1,1),c(-1,-1)),mu = 1e-30000000000000,ci=c(0,0,0,-1))$par[1]\n",
        "c112=constrOptim(w,f,NULL,ui=rbind(c(1,0),c(0,1),c(1,1),c(-1,-1)),mu = 1e-30000000000000,ci=c(0,0,0,-1))$par[2]\n",
        "v<-c(b112,c112)\n",
        "#Expected added error simple averaging modality 1,2 and 3 for classes 2 and 3 \n",
        "E112=f(c(1/3,1/3))\n",
        "E112\n",
        "#Expected added error weighted averaging modality 1,2 and 3 for classes 2 and 3\n",
        "E112w=f(v)\n",
        "E112w"
      ]
    },
    {
      "cell_type": "code",
      "execution_count": 134,
      "metadata": {
        "colab": {
          "base_uri": "https://localhost:8080/",
          "height": 52
        },
        "id": "YQ_ItrGtKcrV",
        "outputId": "bbc758f2-c210-4583-aef9-93fc27f6fa22"
      },
      "outputs": [
        {
          "output_type": "display_data",
          "data": {
            "text/html": [
              "0.197389108247317"
            ],
            "text/markdown": "0.197389108247317",
            "text/latex": "0.197389108247317",
            "text/plain": [
              "[1] 0.1973891"
            ]
          },
          "metadata": {}
        },
        {
          "output_type": "display_data",
          "data": {
            "text/html": [
              "0.0492124988177828"
            ],
            "text/markdown": "0.0492124988177828",
            "text/latex": "0.0492124988177828",
            "text/plain": [
              "[1] 0.0492125"
            ]
          },
          "metadata": {}
        }
      ],
      "source": [
        "#finding optimal weights to combine modalities 1,2 and 3 for classes 1 and 3\n",
        "f<-function(w)\n",
        "{\n",
        "  b<-w[1]\n",
        "  c<-w[2]\n",
        "  d<-(1-w[1]-w[2])\n",
        "  ((mu[1,1]-mu[1,3]-mu1+mu3)*b)^2+((mu[2,1]-mu[2,3]-mu1+mu3)*c)^2+((mu[3,1]-mu[3,3]-mu1+mu3)*d)^2+b*c*2*(mu[1,1]-mu[1,3]-mu1+mu3)*(mu[2,1]-mu[2,3]-mu1+mu3)+2*b*d*(mu[1,1]-mu[1,3]-mu1+mu3)*(mu[3,1]-mu[3,3]-mu1+mu3)+2*c*d*(mu[3,1]-mu[3,3]-mu1+mu3)*(mu[2,1]-mu[2,3]-mu1+mu3)+((a[1,1])^2+(a[1,3])^2+var1+var3-2*covfP[1,1]-2*covfP[1,3])*(b)^2+((a[2,1])^2+(a[2,3])^2+var1+var3-2*covfP[2,1]-2*covfP[2,3])*(c)^2+((a[3,1])^2+(a[3,3])^2+var1+var3-2*covfP[3,1]-2*covfP[3,3])*(d)^2+(covf[1,1,2]-covfP[1,1]-covfP[2,1]+var1+covf[3,1,2]-covfP[1,3]-covfP[2,3]+var3)*b*c*2+(covf[1,1,3]-covfP[3,1]-covfP[1,1]+var1+covf[3,1,3]-covfP[3,3]-covfP[1,3]+var3)*b*d*2+(covf[1,2,3]-covfP[3,1]-covfP[2,1]+var1+covf[3,2,3]-covfP[3,3]-covfP[2,3]+var3)*c*d*2\n",
        "\n",
        "}\n",
        "w<-c(0.2,0.3)\n",
        "b113=constrOptim(w,f,NULL,ui=rbind(c(1,0),c(0,1),c(1,1),c(-1,-1)),mu = 1e-30000000000000,ci=c(0,0,0,-1))$par[1]\n",
        "c113=constrOptim(w,f,NULL,ui=rbind(c(1,0),c(0,1),c(1,1),c(-1,-1)),mu = 1e-30000000000000,ci=c(0,0,0,-1))$par[2]\n",
        "v<-c(b113,c113)\n",
        "#Expected added error simple averaging modality 1,2 and 3 for classes 1 and 3 \n",
        "E113=((mu[1,1]-mu[1,3]-mu1+mu3+mu[2,1]-mu[2,3]-mu1+mu3+mu[3,1]-mu[3,3]-mu1+mu3)/3)^2+((a[1,1])^2+(a[1,3])^2+var1+var3-2*covfP[1,1]-2*covfP[1,3]+(a[2,1])^2+(a[2,3])^2+var1+var3-2*covfP[2,1]-2*covfP[2,3]+(a[3,1])^2+(a[3,3])^2+var1+var3-2*covfP[3,1]-2*covfP[3,3])/9+2*(covf[1,1,2]-covfP[1,1]-covfP[2,1]+var1+covf[3,1,2]-covfP[1,3]-covfP[2,3]+var3+covf[1,2,3]-covfP[3,1]-covfP[2,1]+var1+covf[3,2,3]-covfP[3,3]-covfP[2,3]+var3+covf[1,1,3]-covfP[3,1]-covfP[1,1]+var1+covf[3,1,3]-covfP[3,3]-covfP[1,3]+var3)/9 \n",
        "E113\n",
        "#Expected added error weighted averaging modality 1,2 and 3 for classes 1 and 3 \n",
        "E113w=f(v)\n",
        "E113w"
      ]
    },
    {
      "cell_type": "code",
      "execution_count": 161,
      "metadata": {
        "id": "QracyircOQ9P",
        "colab": {
          "base_uri": "https://localhost:8080/",
          "height": 69
        },
        "outputId": "f2a4b79a-9d48-4089-8e11-232a3845aa95"
      },
      "outputs": [
        {
          "output_type": "display_data",
          "data": {
            "text/html": [
              "0.265967199812467"
            ],
            "text/markdown": "0.265967199812467",
            "text/latex": "0.265967199812467",
            "text/plain": [
              "[1] 0.2659672"
            ]
          },
          "metadata": {}
        },
        {
          "output_type": "display_data",
          "data": {
            "text/html": [
              "0.0662979559501082"
            ],
            "text/markdown": "0.0662979559501082",
            "text/latex": "0.0662979559501082",
            "text/plain": [
              "[1] 0.06629796"
            ]
          },
          "metadata": {}
        },
        {
          "output_type": "display_data",
          "data": {
            "text/html": [
              "<style>\n",
              ".list-inline {list-style: none; margin:0; padding: 0}\n",
              ".list-inline>li {display: inline-block}\n",
              ".list-inline>li:not(:last-child)::after {content: \"\\00b7\"; padding: 0 .5ex}\n",
              "</style>\n",
              "<ol class=list-inline><li>2.19442719541893e-09</li><li>5.69143850545467e-07</li><li>0.999999427543552</li></ol>\n"
            ],
            "text/markdown": "1. 2.19442719541893e-09\n2. 5.69143850545467e-07\n3. 0.999999427543552\n\n\n",
            "text/latex": "\\begin{enumerate*}\n\\item 2.19442719541893e-09\n\\item 5.69143850545467e-07\n\\item 0.999999427543552\n\\end{enumerate*}\n",
            "text/plain": [
              "[1] 2.194427e-09 5.691439e-07 9.999994e-01"
            ]
          },
          "metadata": {}
        }
      ],
      "source": [
        "#finding optimal weights to combine modalities 1,2,3 and 4 for classes 1 and 2\n",
        "f<-function(w)\n",
        "{\n",
        "  b<-w[1]\n",
        "  c<-w[2]\n",
        "  d<-w[3]\n",
        "  e<-1-w[1]-w[2]-w[3]\n",
        "  ((mu[1,1]-mu[1,2]-mu1+mu2)*b)^2+((mu[2,1]-mu[2,2]-mu1+mu2)*c)^2+((mu[3,1]-mu[3,2]-mu1+mu2)*d)^2+((mu[4,1]-mu[4,2]-mu1+mu2)*e)^2+b*c*2*(mu[1,1]-mu[1,2]-mu1+mu2)*(mu[2,1]-mu[2,2]-mu1+mu2)+2*b*d*(mu[1,1]-mu[1,2]-mu1+mu2)*(mu[3,1]-mu[3,2]-mu1+mu2)+2*c*d*(mu[3,1]-mu[3,2]-mu1+mu2)*(mu[2,1]-mu[2,2]-mu1+mu2)+2*e*(mu[4,1]-mu[4,2]-mu1+mu2)*{(mu[1,1]-mu[1,2]-mu1+mu2)*b+(mu[2,1]-mu[2,2]-mu1+mu2)*c+(mu[3,1]-mu[3,2]-mu1+mu2)*d}+((a[1,1])^2+(a[1,2])^2+var1+var2-2*covfP[1,1]-2*covfP[1,2])*(b)^2+((a[2,1])^2+(a[2,2])^2+var1+var2-2*covfP[2,1]-2*covfP[2,2])*(c)^2+((a[3,1])^2+(a[3,2])^2+var1+var2-2*covfP[3,1]-2*covfP[3,2])*(d)^2+((a[4,1])^2+(a[4,2])^2+var1+var2-2*covfP[4,1]-2*covfP[4,2])*(e)^2+(covf[1,1,2]-covfP[1,1]-covfP[2,1]+var1+covf[2,1,2]-covfP[1,2]-covfP[2,2]+var2)*b*c*2+(covf[1,1,3]-covfP[3,1]-covfP[1,1]+var1+covf[2,1,3]-covfP[3,2]-covfP[1,2]+var2)*b*d*2+(covf[1,2,3]-covfP[3,1]-covfP[2,1]+var1+covf[2,2,3]-covfP[3,2]-covfP[2,2]+var2)*c*d*2+(covf[1,1,4]-covfP[4,1]-covfP[1,1]+var1+covf[2,1,4]-covfP[4,2]-covfP[1,2]+var2)*b*e*2+(covf[1,2,4]-covfP[4,1]-covfP[2,1]+var1+covf[2,2,4]-covfP[4,2]-covfP[2,2]+var2)*c*e*2+(covf[1,3,4]-covfP[4,1]-covfP[3,1]+var1+covf[2,3,4]-covfP[4,2]-covfP[3,2]+var2)*d*e*2\n",
        "\n",
        "}\n",
        "w<-c(0.2,0.3,0.1)\n",
        "b1111=constrOptim(w,f,NULL,ui=rbind(c(1,0,0),c(0,1,0),c(0,0,1),c(1,1,1),c(-1,-1,-1)),mu = 1e-30000000000000000000000000000,ci=c(0,0,0,0,-1))$par[1]\n",
        "c1111=constrOptim(w,f,NULL,ui=rbind(c(1,0,0),c(0,1,0),c(0,0,1),c(1,1,1),c(-1,-1,-1)),mu = 1e-30000000000000000000000000000,ci=c(0,0,0,0,-1))$par[2]\n",
        "d1111=constrOptim(w,f,NULL,ui=rbind(c(1,0,0),c(0,1,0),c(0,0,1),c(1,1,1),c(-1,-1,-1)),mu = 1e-30000000000000000000000000000,ci=c(0,0,0,0,-1))$par[3]\n",
        "v<-c(b1111,c1111,d1111)\n",
        "#Expected added error simple averaging modality 1,2,3 and 4 for classes 1 and 2 \n",
        "E1111=((mu[1,1]-mu[1,2]-mu1+mu2+mu[2,1]-mu[2,2]-mu1+mu2+mu[3,1]-mu[3,2]-mu1+mu2+mu[4,1]-mu[4,2]-mu1+mu2)/4)^2+((a[1,1])^2+(a[1,2])^2+var1+var2-2*covfP[1,1]-2*covfP[1,2]+(a[2,1])^2+(a[2,2])^2+var1+var2-2*covfP[2,1]-2*covfP[2,2]+(a[3,1])^2+(a[3,2])^2+var1+var2-2*covfP[3,1]-2*covfP[3,2]+(a[4,1])^2+(a[4,2])^2+var1+var2-2*covfP[4,1]-2*covfP[4,2])/16+2*(covf[1,1,2]-covfP[1,1]-covfP[2,1]+var1+covf[2,1,2]-covfP[1,2]-covfP[2,2]+var2+covf[1,2,3]-covfP[3,1]-covfP[2,1]+var1+covf[2,2,3]-covfP[3,2]-covfP[2,2]+var2+covf[1,1,3]-covfP[3,1]-covfP[1,1]+var1+covf[2,1,3]-covfP[3,2]-covfP[1,2]+var2+covf[1,4,1]-covfP[4,1]-covfP[1,1]+var1+covf[2,4,1]-covfP[4,2]-covfP[1,2]+var2+covf[1,4,2]-covfP[4,1]-covfP[2,1]+var1+covf[2,4,2]-covfP[4,2]-covfP[2,2]+var2+covf[1,4,3]-covfP[4,1]-covfP[3,1]+var1+covf[2,4,3]-covfP[4,2]-covfP[3,2]+var2)/16 \n",
        "E1111\n",
        "#Expected added error weighted averaging modality 1,2,3 and 4 for classes 1 and 2 \n",
        "E1111w=f(v)\n",
        "E1111w\n",
        "v"
      ]
    },
    {
      "cell_type": "code",
      "execution_count": 160,
      "metadata": {
        "colab": {
          "base_uri": "https://localhost:8080/",
          "height": 69
        },
        "outputId": "7e921dd9-7cb4-4192-f943-e156bc56cd7a",
        "id": "6qbjn23xfXay"
      },
      "outputs": [
        {
          "output_type": "display_data",
          "data": {
            "text/html": [
              "0.242856073693222"
            ],
            "text/markdown": "0.242856073693222",
            "text/latex": "0.242856073693222",
            "text/plain": [
              "[1] 0.2428561"
            ]
          },
          "metadata": {}
        },
        {
          "output_type": "display_data",
          "data": {
            "text/html": [
              "0.0488570966942958"
            ],
            "text/markdown": "0.0488570966942958",
            "text/latex": "0.0488570966942958",
            "text/plain": [
              "[1] 0.0488571"
            ]
          },
          "metadata": {}
        },
        {
          "output_type": "display_data",
          "data": {
            "text/html": [
              "<style>\n",
              ".list-inline {list-style: none; margin:0; padding: 0}\n",
              ".list-inline>li {display: inline-block}\n",
              ".list-inline>li:not(:last-child)::after {content: \"\\00b7\"; padding: 0 .5ex}\n",
              "</style>\n",
              "<ol class=list-inline><li>0.00033912434204551</li><li>1.09112481047212e-06</li><li>0.99965978218885</li></ol>\n"
            ],
            "text/markdown": "1. 0.00033912434204551\n2. 1.09112481047212e-06\n3. 0.99965978218885\n\n\n",
            "text/latex": "\\begin{enumerate*}\n\\item 0.00033912434204551\n\\item 1.09112481047212e-06\n\\item 0.99965978218885\n\\end{enumerate*}\n",
            "text/plain": [
              "[1] 3.391243e-04 1.091125e-06 9.996598e-01"
            ]
          },
          "metadata": {}
        }
      ],
      "source": [
        "#finding optimal weights to combine modalities 1,2,3 and 4 for classes 4 and 2\n",
        "f<-function(w)\n",
        "{\n",
        "  b<-w[1]\n",
        "  c<-w[2]\n",
        "  d<-w[3]\n",
        "  e<-1-w[1]-w[2]-w[3]\n",
        "  ((mu[1,4]-mu[1,2]-mu4+mu2)*b)^2+((mu[2,4]-mu[2,2]-mu4+mu2)*c)^2+((mu[3,4]-mu[3,2]-mu4+mu2)*d)^2+((mu[4,4]-mu[4,2]-mu4+mu2)*e)^2+b*c*2*(mu[1,4]-mu[1,2]-mu4+mu2)*(mu[2,4]-mu[2,2]-mu4+mu2)+2*b*d*(mu[1,4]-mu[1,2]-mu4+mu2)*(mu[3,4]-mu[3,2]-mu4+mu2)+2*c*d*(mu[3,4]-mu[3,2]-mu4+mu2)*(mu[2,4]-mu[2,2]-mu4+mu2)+2*e*(mu[4,4]-mu[4,2]-mu4+mu2)*{(mu[1,4]-mu[1,2]-mu4+mu2)*b+(mu[2,4]-mu[2,2]-mu4+mu2)*c+(mu[3,4]-mu[3,2]-mu4+mu2)*d}+((a[1,4])^2+(a[1,2])^2+var4+var2-2*covfP[1,4]-2*covfP[1,2])*(b)^2+((a[2,4])^2+(a[2,2])^2+var4+var2-2*covfP[2,4]-2*covfP[2,2])*(c)^2+((a[3,4])^2+(a[3,2])^2+var4+var2-2*covfP[3,4]-2*covfP[3,2])*(d)^2+((a[4,4])^2+(a[4,2])^2+var4+var2-2*covfP[4,4]-2*covfP[4,2])*(e)^2+(covf[4,1,2]-covfP[1,4]-covfP[2,4]+var4+covf[2,1,2]-covfP[1,2]-covfP[2,2]+var2)*b*c*2+(covf[4,1,3]-covfP[3,4]-covfP[1,4]+var4+covf[2,1,3]-covfP[3,2]-covfP[1,2]+var2)*b*d*2+(covf[4,2,3]-covfP[3,4]-covfP[2,4]+var4+covf[2,2,3]-covfP[3,2]-covfP[2,2]+var2)*c*d*2+(covf[4,1,4]-covfP[4,4]-covfP[1,4]+var4+covf[2,1,4]-covfP[4,2]-covfP[1,2]+var2)*b*e*2+(covf[4,2,4]-covfP[4,4]-covfP[2,4]+var4+covf[2,2,4]-covfP[4,2]-covfP[2,2]+var2)*c*e*2+(covf[4,3,4]-covfP[4,4]-covfP[3,4]+var4+covf[2,3,4]-covfP[4,2]-covfP[3,2]+var2)*d*e*2\n",
        "\n",
        "}\n",
        "w<-c(0.2,0.3,0.1)\n",
        "b1115=constrOptim(w,f,NULL,ui=rbind(c(1,0,0),c(0,1,0),c(0,0,1),c(1,1,1),c(-1,-1,-1)),mu = 1e-30000000000000000000000000000000,ci=c(0,0,0,0,-1))$par[1]\n",
        "c1115=constrOptim(w,f,NULL,ui=rbind(c(1,0,0),c(0,1,0),c(0,0,1),c(1,1,1),c(-1,-1,-1)),mu = 1e-30000000000000000000000000000000,ci=c(0,0,0,0,-1))$par[2]\n",
        "d1115=constrOptim(w,f,NULL,ui=rbind(c(1,0,0),c(0,1,0),c(0,0,1),c(1,1,1),c(-1,-1,-1)),mu = 1e-30000000000000000000000000000000,ci=c(0,0,0,0,-1))$par[3]\n",
        "v<-c(b1115,c1115,d1115)\n",
        "#Expected added error simple averaging modality 1,2,3 and 4 for classes 4 and 2 \n",
        "E1115=f(c(0.25,0.25,0.25))\n",
        "E1115\n",
        "#Expected added error weighted averaging modality 1,2,3 and 4 for classes 4 and 2 \n",
        "E1115w=f(v)\n",
        "E1115w\n",
        "v"
      ]
    },
    {
      "cell_type": "code",
      "execution_count": 159,
      "metadata": {
        "colab": {
          "base_uri": "https://localhost:8080/",
          "height": 69
        },
        "outputId": "71d182db-35cb-43a0-a588-048d8667935a",
        "id": "d7tTSpKtymWR"
      },
      "outputs": [
        {
          "output_type": "display_data",
          "data": {
            "text/html": [
              "0.261137991730047"
            ],
            "text/markdown": "0.261137991730047",
            "text/latex": "0.261137991730047",
            "text/plain": [
              "[1] 0.261138"
            ]
          },
          "metadata": {}
        },
        {
          "output_type": "display_data",
          "data": {
            "text/html": [
              "0.0537447285172052"
            ],
            "text/markdown": "0.0537447285172052",
            "text/latex": "0.0537447285172052",
            "text/plain": [
              "[1] 0.05374473"
            ]
          },
          "metadata": {}
        },
        {
          "output_type": "display_data",
          "data": {
            "text/html": [
              "<style>\n",
              ".list-inline {list-style: none; margin:0; padding: 0}\n",
              ".list-inline>li {display: inline-block}\n",
              ".list-inline>li:not(:last-child)::after {content: \"\\00b7\"; padding: 0 .5ex}\n",
              "</style>\n",
              "<ol class=list-inline><li>1.06292718925286e-09</li><li>0.000270647461134094</li><li>0.999729200342488</li></ol>\n"
            ],
            "text/markdown": "1. 1.06292718925286e-09\n2. 0.000270647461134094\n3. 0.999729200342488\n\n\n",
            "text/latex": "\\begin{enumerate*}\n\\item 1.06292718925286e-09\n\\item 0.000270647461134094\n\\item 0.999729200342488\n\\end{enumerate*}\n",
            "text/plain": [
              "[1] 1.062927e-09 2.706475e-04 9.997292e-01"
            ]
          },
          "metadata": {}
        }
      ],
      "source": [
        "#finding optimal weights to combine modalities 1,2,3 and 4 for classes 4 and 1\n",
        "f<-function(w)\n",
        "{\n",
        "  b<-w[1]\n",
        "  c<-w[2]\n",
        "  d<-w[3]\n",
        "  e<-1-w[1]-w[2]-w[3]\n",
        "  ((mu[1,1]-mu[1,4]-mu1+mu4)*b)^2+((mu[2,1]-mu[2,4]-mu1+mu4)*c)^2+((mu[3,1]-mu[3,4]-mu1+mu4)*d)^2+((mu[4,1]-mu[4,4]-mu1+mu4)*e)^2+b*c*2*(mu[1,1]-mu[1,4]-mu1+mu4)*(mu[2,1]-mu[2,4]-mu1+mu4)+2*b*d*(mu[1,1]-mu[1,4]-mu1+mu4)*(mu[3,1]-mu[3,4]-mu1+mu4)+2*c*d*(mu[3,1]-mu[3,4]-mu1+mu4)*(mu[2,1]-mu[2,4]-mu1+mu4)+2*e*(mu[4,1]-mu[4,4]-mu1+mu4)*{(mu[1,1]-mu[1,4]-mu1+mu4)*b+(mu[2,1]-mu[2,4]-mu1+mu4)*c+(mu[3,1]-mu[3,4]-mu1+mu4)*d}+((a[1,4])^2+(a[1,1])^2+var4+var1-2*covfP[1,4]-2*covfP[1,1])*(b)^2+((a[2,1])^2+(a[2,4])^2+var4+var1-2*covfP[2,4]-2*covfP[2,1])*(c)^2+((a[3,1])^2+(a[3,4])^2+var1+var4-2*covfP[3,1]-2*covfP[3,4])*(d)^2+((a[4,1])^2+(a[4,4])^2+var1+var4-2*covfP[4,1]-2*covfP[4,4])*(e)^2+(covf[1,1,2]-covfP[1,1]-covfP[2,1]+var1+covf[4,1,2]-covfP[1,4]-covfP[2,4]+var4)*b*c*2+(covf[1,1,3]-covfP[3,1]-covfP[1,1]+var1+covf[4,1,3]-covfP[3,4]-covfP[1,4]+var4)*b*d*2+(covf[1,2,3]-covfP[3,1]-covfP[2,1]+var1+covf[4,2,3]-covfP[3,4]-covfP[2,4]+var4)*c*d*2+(covf[1,1,4]-covfP[4,1]-covfP[1,1]+var1+covf[4,1,4]-covfP[4,4]-covfP[1,4]+var4)*b*e*2+(covf[1,2,4]-covfP[4,1]-covfP[2,1]+var1+covf[4,2,4]-covfP[4,4]-covfP[2,4]+var4)*c*e*2+(covf[1,3,4]-covfP[4,1]-covfP[3,1]+var1+covf[4,3,4]-covfP[4,4]-covfP[3,4]+var4)*d*e*2\n",
        "\n",
        "}\n",
        "w<-c(0.2,0.3,0.1)\n",
        "b1114=constrOptim(w,f,NULL,ui=rbind(c(1,0,0),c(0,1,0),c(0,0,1),c(1,1,1),c(-1,-1,-1)),mu = 1e-3000000000000000000000000000000000000000000000000000,ci=c(0,0,0,0,-1))$par[1]\n",
        "c1114=constrOptim(w,f,NULL,ui=rbind(c(1,0,0),c(0,1,0),c(0,0,1),c(1,1,1),c(-1,-1,-1)),mu = 1e-3000000000000000000000000000000000000000000000000000,ci=c(0,0,0,0,-1))$par[2]\n",
        "d1114=constrOptim(w,f,NULL,ui=rbind(c(1,0,0),c(0,1,0),c(0,0,1),c(1,1,1),c(-1,-1,-1)),mu = 1e-3000000000000000000000000000000000000000000000000000,ci=c(0,0,0,0,-1))$par[3]\n",
        "v<-c(b1114,c1114,d1114)\n",
        "#Expected added error simple averaging modality 1,2,3 and 4 for classes 4 and 1 \n",
        "E1114=f(c(1/4,1/4,1/4))\n",
        "E1114\n",
        "#Expected added error weighted averaging modality 1,2,3 and 4 for classes 4 and 1\n",
        "E1114w=f(v)\n",
        "E1114w\n",
        "v"
      ]
    },
    {
      "cell_type": "code",
      "execution_count": 157,
      "metadata": {
        "colab": {
          "base_uri": "https://localhost:8080/",
          "height": 69
        },
        "outputId": "f227cc76-125a-4aee-d516-02edcf91184f",
        "id": "z_mS0rb76PPf"
      },
      "outputs": [
        {
          "output_type": "display_data",
          "data": {
            "text/html": [
              "0.207871739143142"
            ],
            "text/markdown": "0.207871739143142",
            "text/latex": "0.207871739143142",
            "text/plain": [
              "[1] 0.2078717"
            ]
          },
          "metadata": {}
        },
        {
          "output_type": "display_data",
          "data": {
            "text/html": [
              "0.0329539398055892"
            ],
            "text/markdown": "0.0329539398055892",
            "text/latex": "0.0329539398055892",
            "text/plain": [
              "[1] 0.03295394"
            ]
          },
          "metadata": {}
        },
        {
          "output_type": "display_data",
          "data": {
            "text/html": [
              "<style>\n",
              ".list-inline {list-style: none; margin:0; padding: 0}\n",
              ".list-inline>li {display: inline-block}\n",
              ".list-inline>li:not(:last-child)::after {content: \"\\00b7\"; padding: 0 .5ex}\n",
              "</style>\n",
              "<ol class=list-inline><li>8.7476124379859e-09</li><li>9.64862774688113e-09</li><li>0.999999981230121</li></ol>\n"
            ],
            "text/markdown": "1. 8.7476124379859e-09\n2. 9.64862774688113e-09\n3. 0.999999981230121\n\n\n",
            "text/latex": "\\begin{enumerate*}\n\\item 8.7476124379859e-09\n\\item 9.64862774688113e-09\n\\item 0.999999981230121\n\\end{enumerate*}\n",
            "text/plain": [
              "[1] 8.747612e-09 9.648628e-09 1.000000e+00"
            ]
          },
          "metadata": {}
        }
      ],
      "source": [
        "#finding optimal weights to combine modalities 1,2,3 and 4 for classes 4 and 3\n",
        "f<-function(w)\n",
        "{\n",
        "  b<-w[1]\n",
        "  c<-w[2]\n",
        "  d<-w[3]\n",
        "  e<-1-w[1]-w[2]-w[3]\n",
        "  ((mu[1,3]-mu[1,4]-mu3+mu4)*b)^2+((mu[2,3]-mu[2,4]-mu3+mu4)*c)^2+((mu[3,3]-mu[3,4]-mu3+mu4)*d)^2+((mu[4,3]-mu[4,4]-mu3+mu4)*e)^2+b*c*2*(mu[1,3]-mu[1,4]-mu3+mu4)*(mu[2,3]-mu[2,4]-mu3+mu4)+2*b*d*(mu[1,3]-mu[1,4]-mu3+mu4)*(mu[3,3]-mu[3,4]-mu3+mu4)+2*c*d*(mu[3,3]-mu[3,4]-mu3+mu4)*(mu[2,3]-mu[2,4]-mu3+mu4)+2*e*(mu[4,3]-mu[4,4]-mu3+mu4)*{(mu[1,3]-mu[1,4]-mu3+mu4)*b+(mu[2,3]-mu[2,4]-mu3+mu4)*c+(mu[3,3]-mu[3,4]-mu3+mu4)*d}+((a[1,4])^2+(a[1,3])^2+var4+var3-2*covfP[1,4]-2*covfP[1,3])*(b)^2+((a[2,3])^2+(a[2,4])^2+var4+var3-2*covfP[2,4]-2*covfP[2,3])*(c)^2+((a[3,3])^2+(a[3,4])^2+var3+var4-2*covfP[3,3]-2*covfP[3,4])*(d)^2+((a[4,3])^2+(a[4,4])^2+var3+var4-2*covfP[4,3]-2*covfP[4,4])*(e)^2+(covf[3,1,2]-covfP[1,3]-covfP[2,3]+var3+covf[4,1,2]-covfP[1,4]-covfP[2,4]+var4)*b*c*2+(covf[3,1,3]-covfP[3,3]-covfP[1,3]+var3+covf[4,1,3]-covfP[3,4]-covfP[1,4]+var4)*b*d*2+(covf[3,2,3]-covfP[3,3]-covfP[2,3]+var3+covf[4,2,3]-covfP[3,4]-covfP[2,4]+var4)*c*d*2+(covf[3,1,4]-covfP[4,3]-covfP[1,3]+var3+covf[4,1,4]-covfP[4,4]-covfP[1,4]+var4)*b*e*2+(covf[3,2,4]-covfP[4,3]-covfP[2,3]+var3+covf[4,2,4]-covfP[4,4]-covfP[2,4]+var4)*c*e*2+(covf[3,3,4]-covfP[4,3]-covfP[3,3]+var3+covf[4,3,4]-covfP[4,4]-covfP[3,4]+var4)*d*e*2\n",
        "\n",
        "}\n",
        "w<-c(0.2,0.3,0.1)\n",
        "b1116=constrOptim(w,f,NULL,ui=rbind(c(1,0,0),c(0,1,0),c(0,0,1),c(1,1,1),c(-1,-1,-1)),mu = 1e-30000000000000000000000000000,ci=c(0,0,0,0,-1))$par[1]\n",
        "c1116=constrOptim(w,f,NULL,ui=rbind(c(1,0,0),c(0,1,0),c(0,0,1),c(1,1,1),c(-1,-1,-1)),mu = 1e-30000000000000000000000000000,ci=c(0,0,0,0,-1))$par[2]\n",
        "d1116=constrOptim(w,f,NULL,ui=rbind(c(1,0,0),c(0,1,0),c(0,0,1),c(1,1,1),c(-1,-1,-1)),mu = 1e-30000000000000000000000000000,ci=c(0,0,0,0,-1))$par[3]\n",
        "v<-c(b1116,c1116,d1116)\n",
        "#Expected added error simple averaging modality 1,2,3 and 4 for classes 4 and 3 \n",
        "E1116=f(c(1/4,1/4,1/4))\n",
        "E1116\n",
        "#Expected added error weighted averaging modality 1,2,3 and 4 for classes 4 and 3\n",
        "E1116w=f(v)\n",
        "E1116w\n",
        "v"
      ]
    },
    {
      "cell_type": "code",
      "execution_count": 156,
      "metadata": {
        "id": "PiUc6CjSWRvY",
        "colab": {
          "base_uri": "https://localhost:8080/",
          "height": 69
        },
        "outputId": "29596f85-a4eb-4711-9b94-a7ddb6427d34"
      },
      "outputs": [
        {
          "output_type": "display_data",
          "data": {
            "text/html": [
              "0.212468471327814"
            ],
            "text/markdown": "0.212468471327814",
            "text/latex": "0.212468471327814",
            "text/plain": [
              "[1] 0.2124685"
            ]
          },
          "metadata": {}
        },
        {
          "output_type": "display_data",
          "data": {
            "text/html": [
              "0.0450076638889259"
            ],
            "text/markdown": "0.0450076638889259",
            "text/latex": "0.0450076638889259",
            "text/plain": [
              "[1] 0.04500766"
            ]
          },
          "metadata": {}
        },
        {
          "output_type": "display_data",
          "data": {
            "text/html": [
              "<style>\n",
              ".list-inline {list-style: none; margin:0; padding: 0}\n",
              ".list-inline>li {display: inline-block}\n",
              ".list-inline>li:not(:last-child)::after {content: \"\\00b7\"; padding: 0 .5ex}\n",
              "</style>\n",
              "<ol class=list-inline><li>5.22340169987761e-09</li><li>1.43872297276783e-09</li><li>0.999999982353776</li></ol>\n"
            ],
            "text/markdown": "1. 5.22340169987761e-09\n2. 1.43872297276783e-09\n3. 0.999999982353776\n\n\n",
            "text/latex": "\\begin{enumerate*}\n\\item 5.22340169987761e-09\n\\item 1.43872297276783e-09\n\\item 0.999999982353776\n\\end{enumerate*}\n",
            "text/plain": [
              "[1] 5.223402e-09 1.438723e-09 1.000000e+00"
            ]
          },
          "metadata": {}
        }
      ],
      "source": [
        "#finding optimal weights to combine modalities 1,2,3 and 4 for classes 2 and 3\n",
        "f<-function(w)\n",
        "{\n",
        "  b<-w[1]\n",
        "  c<-w[2]\n",
        "  d<-w[3]\n",
        "  e<-1-w[1]-w[2]-w[3]\n",
        "  ((mu[1,3]-mu[1,2]-mu3+mu2)*b)^2+((mu[2,3]-mu[2,2]-mu3+mu2)*c)^2+((mu[3,3]-mu[3,2]-mu3+mu2)*d)^2+((mu[4,3]-mu[4,2]-mu3+mu2)*e)^2+b*c*2*(mu[1,3]-mu[1,2]-mu3+mu2)*(mu[2,3]-mu[2,2]-mu3+mu2)+2*b*d*(mu[1,3]-mu[1,2]-mu3+mu2)*(mu[3,3]-mu[3,2]-mu3+mu2)+2*c*d*(mu[3,3]-mu[3,2]-mu3+mu2)*(mu[2,3]-mu[2,2]-mu3+mu2)+2*e*(mu[4,3]-mu[4,2]-mu3+mu2)*{(mu[1,3]-mu[1,2]-mu3+mu2)*b+(mu[2,3]-mu[2,2]-mu3+mu2)*c+(mu[3,3]-mu[3,2]-mu3+mu2)*d}+((a[1,3])^2+(a[1,2])^2+var3+var2-2*covfP[1,3]-2*covfP[1,2])*(b)^2+((a[2,3])^2+(a[2,2])^2+var3+var2-2*covfP[2,3]-2*covfP[2,2])*(c)^2+((a[3,3])^2+(a[3,2])^2+var3+var2-2*covfP[3,3]-2*covfP[3,2])*(d)^2+((a[4,3])^2+(a[4,2])^2+var3+var2-2*covfP[4,3]-2*covfP[4,2])*(e)^2+(covf[3,1,2]-covfP[1,3]-covfP[2,3]+var3+covf[2,1,2]-covfP[1,2]-covfP[2,2]+var2)*b*c*2+(covf[3,1,3]-covfP[3,3]-covfP[1,3]+var3+covf[2,1,3]-covfP[3,2]-covfP[1,2]+var2)*b*d*2+(covf[3,2,3]-covfP[3,3]-covfP[2,3]+var3+covf[2,2,3]-covfP[3,2]-covfP[2,2]+var2)*c*d*2+(covf[3,1,4]-covfP[4,3]-covfP[1,3]+var3+covf[2,1,4]-covfP[4,2]-covfP[1,2]+var2)*b*e*2+(covf[3,2,4]-covfP[4,3]-covfP[2,3]+var3+covf[2,2,4]-covfP[4,2]-covfP[2,2]+var2)*c*e*2+(covf[3,3,4]-covfP[4,3]-covfP[3,3]+var3+covf[2,3,4]-covfP[4,2]-covfP[3,2]+var2)*d*e*2\n",
        "}\n",
        "w<-c(0.2,0.3,0.1)\n",
        "b1112=constrOptim(w,f,NULL,ui=rbind(c(1,0,0),c(0,1,0),c(0,0,1),c(1,1,1),c(-1,-1,-1)),mu = 1e-300000000000000000000000000000000,ci=c(0,0,0,0,-1))$par[1]\n",
        "c1112=constrOptim(w,f,NULL,ui=rbind(c(1,0,0),c(0,1,0),c(0,0,1),c(1,1,1),c(-1,-1,-1)),mu = 1e-300000000000000000000000000000000,ci=c(0,0,0,0,-1))$par[2]\n",
        "d1112=constrOptim(w,f,NULL,ui=rbind(c(1,0,0),c(0,1,0),c(0,0,1),c(1,1,1),c(-1,-1,-1)),mu = 1e-300000000000000000000000000000000,ci=c(0,0,0,0,-1))$par[3]\n",
        "v<-c(b1112,c1112,d1112)\n",
        "#Expected added error simple averaging modality 1,2,3 and 4 for classes 2 and 3 \n",
        "E1112=((mu[1,3]-mu[1,2]-mu3+mu2+mu[2,3]-mu[2,2]-mu3+mu2+mu[3,3]-mu[3,2]-mu3+mu2+mu[4,3]-mu[4,2]-mu3+mu2)/4)^2+((a[1,3])^2+(a[1,2])^2+var3+var2-2*covfP[1,3]-2*covfP[1,2]+(a[2,3])^2+(a[2,2])^2+var3+var2-2*covfP[2,3]-2*covfP[2,2]+(a[3,3])^2+(a[3,2])^2+var3+var2-2*covfP[3,3]-2*covfP[3,2]+(a[4,3])^2+(a[4,2])^2+var3+var2-2*covfP[4,3]-2*covfP[4,2])/16+2*(covf[3,1,2]-covfP[1,3]-covfP[2,3]+var3+covf[2,1,2]-covfP[1,2]-covfP[2,2]+var2+covf[3,2,3]-covfP[3,3]-covfP[2,3]+var3+covf[2,2,3]-covfP[3,2]-covfP[2,2]+var2+covf[3,1,3]-covfP[3,3]-covfP[1,3]+var3+covf[2,1,3]-covfP[3,2]-covfP[1,2]+var2+covf[3,4,1]-covfP[4,3]-covfP[1,3]+var3+covf[2,4,1]-covfP[4,2]-covfP[1,2]+var2+covf[3,4,2]-covfP[4,3]-covfP[2,3]+var3+covf[2,4,2]-covfP[4,2]-covfP[2,2]+var2+covf[3,4,3]-covfP[4,3]-covfP[3,3]+var3+covf[2,4,3]-covfP[4,2]-covfP[3,2]+var2)/16 \n",
        "E1112\n",
        "#Expected added error weighted averaging modality 1,2,3 and 4 for classes 2 and 3\n",
        "E1112w=f(v)\n",
        "E1112w\n",
        "v"
      ]
    },
    {
      "cell_type": "code",
      "execution_count": 169,
      "metadata": {
        "id": "HtLTqCg5a-rk",
        "colab": {
          "base_uri": "https://localhost:8080/",
          "height": 69
        },
        "outputId": "0aee70de-d8a6-4675-bf81-252b55089608"
      },
      "outputs": [
        {
          "output_type": "display_data",
          "data": {
            "text/html": [
              "0.230560777297222"
            ],
            "text/markdown": "0.230560777297222",
            "text/latex": "0.230560777297222",
            "text/plain": [
              "[1] 0.2305608"
            ]
          },
          "metadata": {}
        },
        {
          "output_type": "display_data",
          "data": {
            "text/html": [
              "0.0523321148685771"
            ],
            "text/markdown": "0.0523321148685771",
            "text/latex": "0.0523321148685771",
            "text/plain": [
              "[1] 0.05233211"
            ]
          },
          "metadata": {}
        },
        {
          "output_type": "display_data",
          "data": {
            "text/html": [
              "<style>\n",
              ".list-inline {list-style: none; margin:0; padding: 0}\n",
              ".list-inline>li {display: inline-block}\n",
              ".list-inline>li:not(:last-child)::after {content: \"\\00b7\"; padding: 0 .5ex}\n",
              "</style>\n",
              "<ol class=list-inline><li>0.0180053536960263</li><li>5.32541532559085e-05</li><li>0.981941391983731</li></ol>\n"
            ],
            "text/markdown": "1. 0.0180053536960263\n2. 5.32541532559085e-05\n3. 0.981941391983731\n\n\n",
            "text/latex": "\\begin{enumerate*}\n\\item 0.0180053536960263\n\\item 5.32541532559085e-05\n\\item 0.981941391983731\n\\end{enumerate*}\n",
            "text/plain": [
              "[1] 1.800535e-02 5.325415e-05 9.819414e-01"
            ]
          },
          "metadata": {}
        }
      ],
      "source": [
        "#finding optimal weights to combine modalities 1,2,3 and 4 for classes 3 and 1\n",
        "f<-function(w)\n",
        "{\n",
        "  b<-w[1]\n",
        "  c<-w[2]\n",
        "  d<-w[3]\n",
        "  e<-(1-w[1]-w[2]-w[3])\n",
        "  ((mu[1,3]-mu[1,1]-mu3+mu1)*b)^2+((mu[2,3]-mu[2,1]-mu3+mu1)*c)^2+((mu[3,3]-mu[3,1]-mu3+mu1)*d)^2+((mu[4,3]-mu[4,1]-mu3+mu1)*e)^2+b*c*2*(mu[1,3]-mu[1,1]-mu3+mu1)*(mu[2,3]-mu[2,1]-mu3+mu1)+2*b*d*(mu[1,3]-mu[1,1]-mu3+mu1)*(mu[3,3]-mu[3,1]-mu3+mu1)+2*c*d*(mu[3,3]-mu[3,1]-mu3+mu1)*(mu[2,3]-mu[2,1]-mu3+mu1)+2*e*(mu[4,3]-mu[4,1]-mu3+mu1)*{(mu[1,3]-mu[1,1]-mu3+mu1)*b+(mu[2,3]-mu[2,1]-mu3+mu1)*c+(mu[3,3]-mu[3,1]-mu3+mu1)*d}+((a[1,3])^2+(a[1,1])^2+var3+var1-2*covfP[1,3]-2*covfP[1,1])*(b)^2+((a[2,3])^2+(a[2,1])^2+var3+var1-2*covfP[2,3]-2*covfP[2,1])*(c)^2+((a[3,3])^2+(a[3,1])^2+var3+var1-2*covfP[3,3]-2*covfP[3,1])*(d)^2+((a[4,3])^2+(a[4,1])^2+var3+var1-2*covfP[4,3]-2*covfP[4,1])*(e)^2+(covf[3,1,2]-covfP[1,3]-covfP[2,3]+var3+covf[1,1,2]-covfP[1,1]-covfP[2,1]+var1)*b*c*2+(covf[3,1,3]-covfP[3,3]-covfP[1,3]+var3+covf[1,1,3]-covfP[3,1]-covfP[1,1]+var1)*b*d*2+(covf[3,2,3]-covfP[3,3]-covfP[2,3]+var3+covf[1,2,3]-covfP[3,1]-covfP[2,1]+var1)*c*d*2+(covf[3,1,4]-covfP[4,3]-covfP[1,3]+var3+covf[1,1,4]-covfP[4,1]-covfP[1,1]+var1)*b*e*2+(covf[3,2,4]-covfP[4,3]-covfP[2,3]+var3+covf[1,2,4]-covfP[4,1]-covfP[2,1]+var1)*c*e*2+(covf[3,3,4]-covfP[4,3]-covfP[3,3]+var3+covf[1,3,4]-covfP[4,1]-covfP[3,1]+var1)*d*e*2\n",
        "}\n",
        "w<-c(0.2,0.3,0.1)\n",
        "b1113=constrOptim(w,f,NULL,ui=rbind(c(1,0,0),c(0,1,0),c(0,0,1),c(1,1,1),c(-1,-1,-1)),outer.iterations = 5000,outer.eps = 1e-300000000,mu = 1e-300000000000000000000000000000000000000000000000000000000000000000000000000000000000000000000000000,ci=c(0,0,0,0,-1))$par[1]\n",
        "c1113=constrOptim(w,f,NULL,ui=rbind(c(1,0,0),c(0,1,0),c(0,0,1),c(1,1,1),c(-1,-1,-1)),outer.iterations = 5000,outer.eps = 1e-300000000,mu = 1e-300000000000000000000000000000000000000000000000000000000000000000000000000000000000000000000000000,ci=c(0,0,0,0,-1))$par[2]\n",
        "d1113=constrOptim(w,f,NULL,ui=rbind(c(1,0,0),c(0,1,0),c(0,0,1),c(1,1,1),c(-1,-1,-1)),outer.iterations = 5000,outer.eps = 1e-300000000,mu = 1e-300000000000000000000000000000000000000000000000000000000000000000000000000000000000000000000000000,ci=c(0,0,0,0,-1))$par[3]\n",
        "v<-c(b1113,c1113,d1113)\n",
        "#Expected added error simple averaging modality 1,2,3 and 4 for classes 2 and 3 \n",
        "E1113=f(c(0.25,0.25,0.25))\n",
        "E1113\n",
        "#Expected added error weighted averaging modality 1,2,3 and 4 for classes 2 and 3\n",
        "E1113w=f(v)\n",
        "E1113w\n",
        "v"
      ]
    },
    {
      "cell_type": "code",
      "execution_count": 170,
      "metadata": {
        "colab": {
          "base_uri": "https://localhost:8080/",
          "height": 86
        },
        "id": "SSBkUvXZdSD2",
        "outputId": "8e1487a7-bb9a-45de-bb67-f08353df1e6e"
      },
      "outputs": [
        {
          "output_type": "display_data",
          "data": {
            "text/html": [
              "0.679138736596532"
            ],
            "text/markdown": "0.679138736596532",
            "text/latex": "0.679138736596532",
            "text/plain": [
              "[1] 0.6791387"
            ]
          },
          "metadata": {}
        },
        {
          "output_type": "display_data",
          "data": {
            "text/html": [
              "0.6791387666674"
            ],
            "text/markdown": "0.6791387666674",
            "text/latex": "0.6791387666674",
            "text/plain": [
              "[1] 0.6791388"
            ]
          },
          "metadata": {}
        },
        {
          "output_type": "display_data",
          "data": {
            "text/html": [
              "0.67913879175118"
            ],
            "text/markdown": "0.67913879175118",
            "text/latex": "0.67913879175118",
            "text/plain": [
              "[1] 0.6791388"
            ]
          },
          "metadata": {}
        },
        {
          "output_type": "display_data",
          "data": {
            "text/html": [
              "0.680365953999846"
            ],
            "text/markdown": "0.680365953999846",
            "text/latex": "0.680365953999846",
            "text/plain": [
              "[1] 0.680366"
            ]
          },
          "metadata": {}
        }
      ],
      "source": [
        "#Expected Added Error For all Classes Combining Modality 3 : \n",
        "(pt1*E1[3]/abs(pr21-pr12)+pt2*E2[3]/abs(pr23-pr32)+pt3*E3[3]/abs(pr31-pr13)+pt4*E4[3]/abs(pr41-pr14)+pt5*E5[3]/abs(pr42-pr24)+pt6*E6[3]/abs(pr34-pr43))/12\n",
        "#Expected Added Error For all Classes Combining Modalities 2 and 3 :\n",
        "(pt1*E11w/abs(pr21-pr12)+pt2*E12w/abs(pr23-pr32)+pt3*E13w/abs(pr31-pr13)+pt4*E14w/abs(pr41-pr14)+pt5*E15w/abs(pr42-pr24)+pt6*E16w/abs(pr43-pr34))/12\n",
        "#Expected Added Error For all Classes Combining Modalities 1,2 and 3:\n",
        "(pt1*E111w/abs(pr21-pr12)+pt2*E112w/abs(pr23-pr32)+pt3*E113w/abs(pr31-pr13)+pt4*E114w/abs(pr41-pr14)+pt5*E115w/abs(pr42-pr24)+pt6*E116w/abs(pr43-pr34))/12\n",
        "#Expected Added Error For all Classes Combining Modalities 1,2,3 and 4:\n",
        "(pt1*E1111w/abs(pr21-pr12)+pt2*E1112w/abs(pr23-pr32)+pt3*E1113w/abs(pr31-pr13)+pt4*E1114w/abs(pr41-pr14)+pt5*E1115w/abs(pr42-pr24)+pt6*E1116w/abs(pr43-pr34))/12"
      ]
    },
    {
      "cell_type": "code",
      "execution_count": 171,
      "metadata": {
        "colab": {
          "base_uri": "https://localhost:8080/",
          "height": 225
        },
        "id": "nYqkIB8O6wkm",
        "outputId": "79501ccc-6db0-42a9-8c3e-a07e36e8f8c0"
      },
      "outputs": [
        {
          "output_type": "display_data",
          "data": {
            "text/html": [
              "'On Combining Modality 3 and 2'"
            ],
            "text/markdown": "'On Combining Modality 3 and 2'",
            "text/latex": "'On Combining Modality 3 and 2'",
            "text/plain": [
              "[1] \"On Combining Modality 3 and 2\""
            ]
          },
          "metadata": {}
        },
        {
          "output_type": "display_data",
          "data": {
            "text/html": [
              "'Modality 3 has weight 1.000000'"
            ],
            "text/markdown": "'Modality 3 has weight 1.000000'",
            "text/latex": "'Modality 3 has weight 1.000000'",
            "text/plain": [
              "[1] \"Modality 3 has weight 1.000000\""
            ]
          },
          "metadata": {}
        },
        {
          "output_type": "display_data",
          "data": {
            "text/html": [
              "'Modality 2 has weight 0.000000'"
            ],
            "text/markdown": "'Modality 2 has weight 0.000000'",
            "text/latex": "'Modality 2 has weight 0.000000'",
            "text/plain": [
              "[1] \"Modality 2 has weight 0.000000\""
            ]
          },
          "metadata": {}
        },
        {
          "output_type": "display_data",
          "data": {
            "text/html": [
              "'On Combining Modality 1,3 and 2'"
            ],
            "text/markdown": "'On Combining Modality 1,3 and 2'",
            "text/latex": "'On Combining Modality 1,3 and 2'",
            "text/plain": [
              "[1] \"On Combining Modality 1,3 and 2\""
            ]
          },
          "metadata": {}
        },
        {
          "output_type": "display_data",
          "data": {
            "text/html": [
              "'Modality 1 has weight 0.000000'"
            ],
            "text/markdown": "'Modality 1 has weight 0.000000'",
            "text/latex": "'Modality 1 has weight 0.000000'",
            "text/plain": [
              "[1] \"Modality 1 has weight 0.000000\""
            ]
          },
          "metadata": {}
        },
        {
          "output_type": "display_data",
          "data": {
            "text/html": [
              "'Modality 2 has weight 0.000000'"
            ],
            "text/markdown": "'Modality 2 has weight 0.000000'",
            "text/latex": "'Modality 2 has weight 0.000000'",
            "text/plain": [
              "[1] \"Modality 2 has weight 0.000000\""
            ]
          },
          "metadata": {}
        },
        {
          "output_type": "display_data",
          "data": {
            "text/html": [
              "'Modality 3 has weight 1.000000'"
            ],
            "text/markdown": "'Modality 3 has weight 1.000000'",
            "text/latex": "'Modality 3 has weight 1.000000'",
            "text/plain": [
              "[1] \"Modality 3 has weight 1.000000\""
            ]
          },
          "metadata": {}
        },
        {
          "output_type": "display_data",
          "data": {
            "text/html": [
              "'On Combining Modality 1,4,3 and 2'"
            ],
            "text/markdown": "'On Combining Modality 1,4,3 and 2'",
            "text/latex": "'On Combining Modality 1,4,3 and 2'",
            "text/plain": [
              "[1] \"On Combining Modality 1,4,3 and 2\""
            ]
          },
          "metadata": {}
        },
        {
          "output_type": "display_data",
          "data": {
            "text/html": [
              "'Modality 1 has weight 0.003057'"
            ],
            "text/markdown": "'Modality 1 has weight 0.003057'",
            "text/latex": "'Modality 1 has weight 0.003057'",
            "text/plain": [
              "[1] \"Modality 1 has weight 0.003057\""
            ]
          },
          "metadata": {}
        },
        {
          "output_type": "display_data",
          "data": {
            "text/html": [
              "'Modality 2 has weight 0.000054'"
            ],
            "text/markdown": "'Modality 2 has weight 0.000054'",
            "text/latex": "'Modality 2 has weight 0.000054'",
            "text/plain": [
              "[1] \"Modality 2 has weight 0.000054\""
            ]
          },
          "metadata": {}
        },
        {
          "output_type": "display_data",
          "data": {
            "text/html": [
              "'Modality 3 has weight 0.996888'"
            ],
            "text/markdown": "'Modality 3 has weight 0.996888'",
            "text/latex": "'Modality 3 has weight 0.996888'",
            "text/plain": [
              "[1] \"Modality 3 has weight 0.996888\""
            ]
          },
          "metadata": {}
        },
        {
          "output_type": "display_data",
          "data": {
            "text/html": [
              "'Modality 4 has weight 0.000000'"
            ],
            "text/markdown": "'Modality 4 has weight 0.000000'",
            "text/latex": "'Modality 4 has weight 0.000000'",
            "text/plain": [
              "[1] \"Modality 4 has weight 0.000000\""
            ]
          },
          "metadata": {}
        }
      ],
      "source": [
        "#Weight for combining modality 3 and 2:\n",
        "p11<-(b11+b12+b13+b14+b15+b16)/6\n",
        "q11<-(c11+c12+c13+c14+c15+c16)/6\n",
        "sprintf(\"On Combining Modality 3 and 2\")\n",
        "sprintf(\"Modality 3 has weight %f\",p11)\n",
        "sprintf(\"Modality 2 has weight %f\",q11)\n",
        "p111<-(b111+b114+b115+b112+b113+b116)/6\n",
        "q111<-(c111+c112+c113+c114+c115+c116)/6\n",
        "r111<-(1-p111-q111)\n",
        "sprintf(\"On Combining Modality 1,3 and 2\")\n",
        "sprintf(\"Modality 1 has weight %f\",p111)\n",
        "sprintf(\"Modality 2 has weight %f\",q111)\n",
        "sprintf(\"Modality 3 has weight %f\",r111)\n",
        "p1111<-(b1111+b1112+b1113+b1114+b1115+b1116)/6\n",
        "q1111<-(c1111+c1112+c1113+c1114+c1115+c1116)/6\n",
        "r1111<-(d1111+d1112+d1113+d1114+d1115+d1116)/6\n",
        "s1111<-(1-p1111-q1111-r1111)\n",
        "sprintf(\"On Combining Modality 1,4,3 and 2\")\n",
        "sprintf(\"Modality 1 has weight %f\",p1111)\n",
        "sprintf(\"Modality 2 has weight %f\",q1111)\n",
        "sprintf(\"Modality 3 has weight %f\",r1111)\n",
        "sprintf(\"Modality 4 has weight %f\",s1111)"
      ]
    },
    {
      "cell_type": "code",
      "source": [
        "p_21<-predict(classifier_cl2,data22,probability=TRUE)\n",
        "p_21<-(attr(p_21,\"probabilities\"))"
      ],
      "metadata": {
        "id": "dRXdR740XCZI"
      },
      "execution_count": 181,
      "outputs": []
    },
    {
      "cell_type": "code",
      "source": [
        "p_11<-predict(classifier_cl1,data12,probability=TRUE)\n",
        "p_11<-(attr(p_11,\"probabilities\"))"
      ],
      "metadata": {
        "id": "JpRxA4tnZY9f"
      },
      "execution_count": 182,
      "outputs": []
    },
    {
      "cell_type": "code",
      "source": [
        "p_31<-predict(classifier_cl3,data32,probability=TRUE)\n",
        "p_31<-(attr(p_31,\"probabilities\"))"
      ],
      "metadata": {
        "id": "9JtHMkj_ZZG2"
      },
      "execution_count": 183,
      "outputs": []
    },
    {
      "cell_type": "code",
      "source": [
        "p_41<-predict(classifier_cl4,data42,probability=TRUE)\n",
        "p_41<-(attr(p_41,\"probabilities\"))"
      ],
      "metadata": {
        "id": "CVg57om7ZZPS"
      },
      "execution_count": 184,
      "outputs": []
    },
    {
      "cell_type": "code",
      "execution_count": 192,
      "metadata": {
        "colab": {
          "base_uri": "https://localhost:8080/",
          "height": 139
        },
        "id": "RTFsqByz28DI",
        "outputId": "afd1e3c9-88a7-406b-f188-dc5094d48be0"
      },
      "outputs": [
        {
          "output_type": "display_data",
          "data": {
            "text/plain": [
              "   v\n",
              "     1  2  3  4\n",
              "  1 25  1  1  0\n",
              "  2  2 14  0  0\n",
              "  3  6  0  4  0\n",
              "  4  6  0  0  7"
            ]
          },
          "metadata": {}
        },
        {
          "output_type": "display_data",
          "data": {
            "text/html": [
              "0.757575757575758"
            ],
            "text/markdown": "0.757575757575758",
            "text/latex": "0.757575757575758",
            "text/plain": [
              "[1] 0.7575758"
            ]
          },
          "metadata": {}
        }
      ],
      "source": [
        "p<-p_21*q11+p_31*p11\n",
        "v<-c()\n",
        "for(i in 1:66){\n",
        "  j<-as.numeric(which.max(p[i,]))\n",
        "  v<-c(v,j)\n",
        "}\n",
        "cm<-table(data12$V2001,v)\n",
        "cm\n",
        "(25+14+4+7)/66"
      ]
    },
    {
      "cell_type": "code",
      "execution_count": 194,
      "metadata": {
        "colab": {
          "base_uri": "https://localhost:8080/",
          "height": 139
        },
        "id": "jNZyLuyLcc4-",
        "outputId": "5d005035-eae0-4ae8-f903-e93e53bfaf5d"
      },
      "outputs": [
        {
          "output_type": "display_data",
          "data": {
            "text/plain": [
              "   v\n",
              "     1  2  3  4\n",
              "  1 25  1  1  0\n",
              "  2  2 14  0  0\n",
              "  3  6  0  4  0\n",
              "  4  6  0  0  7"
            ]
          },
          "metadata": {}
        },
        {
          "output_type": "display_data",
          "data": {
            "text/html": [
              "0.757575757575758"
            ],
            "text/markdown": "0.757575757575758",
            "text/latex": "0.757575757575758",
            "text/plain": [
              "[1] 0.7575758"
            ]
          },
          "metadata": {}
        }
      ],
      "source": [
        "pp1<-p_11*(b111)+p_21*(c111)+p_31*(1-b111-c111)\n",
        "pp2<-p_11*(b112)+p_21*(c112)+p_31*(1-b112-c112)\n",
        "pp3<-p_11*(b113)+p_21*(c113)+p_31*(1-b113-c113)\n",
        "pp4<-p_11*b114+p_21*c114+p_31*(1-b114-c114)\n",
        "pp5<-p_11*b115+p_21*c115+p_31*(1-b115-c115)\n",
        "pp6<-p_11*b116+p_21*c116+p_31*(1-b116-c116)\n",
        "pp<-pp1+pp2+pp3+pp4+pp5+pp6\n",
        "v<-c()\n",
        "for(i in 1:66){\n",
        "  j<-as.numeric(which.max(pp[i,]))\n",
        "  v<-c(v,j)\n",
        "}\n",
        "cm<-table(data12$V2001,v)\n",
        "cm\n",
        "(25+14+4+7)/66"
      ]
    },
    {
      "cell_type": "code",
      "execution_count": 196,
      "metadata": {
        "colab": {
          "base_uri": "https://localhost:8080/",
          "height": 139
        },
        "id": "nI2OKcAvem6I",
        "outputId": "b81b06f6-9bed-47ee-fac7-127ce574e594"
      },
      "outputs": [
        {
          "output_type": "display_data",
          "data": {
            "text/plain": [
              "   v\n",
              "     1  2  3  4\n",
              "  1 25  1  1  0\n",
              "  2  2 14  0  0\n",
              "  3  6  0  4  0\n",
              "  4  6  0  0  7"
            ]
          },
          "metadata": {}
        },
        {
          "output_type": "display_data",
          "data": {
            "text/html": [
              "0.757575757575758"
            ],
            "text/markdown": "0.757575757575758",
            "text/latex": "0.757575757575758",
            "text/plain": [
              "[1] 0.7575758"
            ]
          },
          "metadata": {}
        }
      ],
      "source": [
        "ppp1<-p_11*(b1111)+p_21*(c1111)+p_41*(1-b1111-c1111-d1111)+p_31*(d1111)\n",
        "ppp2<-p_11*b1112+p_21*c1112+p_31*d1112+p_41*(1-b1112-c1112-d1112)\n",
        "ppp3<-p_11*b1113+p_21*c1113+p_31*d1113+p_41*(1-b1113-c1113-d1113)\n",
        "ppp4<-p_11*b1114+p_21*c1114+p_31*d1114+p_41*(1-b1114-c1114-d1114)\n",
        "ppp5<-p_11*b1115+p_21*c1115+p_31*d1115+p_41*(1-b1115-c1115-d1115)\n",
        "ppp6<-p_11*b1116+p_21*c1116+p_31*d1116+p_41*(1-b1116-c1116-d1116)\n",
        "ppp<-ppp1+ppp2+ppp3+ppp4+ppp5+ppp6\n",
        "v<-c()\n",
        "for(i in 1:66){\n",
        "  j<-as.numeric(which.max(ppp[i,]))\n",
        "  v<-c(v,j)\n",
        "}\n",
        "cm<-table(data12$V2001,v)\n",
        "cm\n",
        "(25+14+4+7)/66"
      ]
    }
  ],
  "metadata": {
    "colab": {
      "name": "Multiclass Classifier Project BRCA using SVM",
      "provenance": [],
      "authorship_tag": "ABX9TyNmSGTGzmDDmMlvhIYqovzP",
      "include_colab_link": true
    },
    "kernelspec": {
      "display_name": "R",
      "name": "ir"
    },
    "language_info": {
      "name": "R"
    }
  },
  "nbformat": 4,
  "nbformat_minor": 0
}